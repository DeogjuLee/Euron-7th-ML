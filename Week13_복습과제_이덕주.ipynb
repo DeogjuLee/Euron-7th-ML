{
  "cells": [
    {
      "cell_type": "markdown",
      "id": "8fd53335-c2eb-4b38-a86e-6c2e02adbd77",
      "metadata": {
        "id": "8fd53335-c2eb-4b38-a86e-6c2e02adbd77"
      },
      "source": [
        "#**군집화**"
      ]
    },
    {
      "cell_type": "markdown",
      "id": "bb9c64f1-f876-418b-b94e-270d8e684506",
      "metadata": {
        "id": "bb9c64f1-f876-418b-b94e-270d8e684506"
      },
      "source": [
        "#**1.K-평균 알고리즘 이해**"
      ]
    },
    {
      "cell_type": "markdown",
      "id": "671fb9fd-ef76-4e5e-8e9e-df1396b49eb5",
      "metadata": {
        "id": "671fb9fd-ef76-4e5e-8e9e-df1396b49eb5"
      },
      "source": [
        "##**1-1. 와인 데이터 세트 불러오기**"
      ]
    },
    {
      "cell_type": "code",
      "execution_count": null,
      "id": "1daeff61-7a69-4da3-a864-056a3d187c91",
      "metadata": {
        "id": "1daeff61-7a69-4da3-a864-056a3d187c91",
        "colab": {
          "base_uri": "https://localhost:8080/",
          "height": 163
        },
        "outputId": "456d5602-d1bd-43db-89a4-f8744985fec8"
      },
      "outputs": [
        {
          "output_type": "execute_result",
          "data": {
            "text/plain": [
              "   alcohol  malic_acid   ash  alcalinity_of_ash  magnesium  total_phenols  \\\n",
              "0    14.23        1.71  2.43               15.6      127.0           2.80   \n",
              "1    13.20        1.78  2.14               11.2      100.0           2.65   \n",
              "2    13.16        2.36  2.67               18.6      101.0           2.80   \n",
              "\n",
              "   flavanoids  nonflavanoid_phenols  proanthocyanins  color_intensity   hue  \\\n",
              "0        3.06                  0.28             2.29             5.64  1.04   \n",
              "1        2.76                  0.26             1.28             4.38  1.05   \n",
              "2        3.24                  0.30             2.81             5.68  1.03   \n",
              "\n",
              "   od280/od315_of_diluted_wines  proline  \n",
              "0                          3.92   1065.0  \n",
              "1                          3.40   1050.0  \n",
              "2                          3.17   1185.0  "
            ],
            "text/html": [
              "\n",
              "  <div id=\"df-e37417c2-e470-4975-973b-62422a80c5b6\" class=\"colab-df-container\">\n",
              "    <div>\n",
              "<style scoped>\n",
              "    .dataframe tbody tr th:only-of-type {\n",
              "        vertical-align: middle;\n",
              "    }\n",
              "\n",
              "    .dataframe tbody tr th {\n",
              "        vertical-align: top;\n",
              "    }\n",
              "\n",
              "    .dataframe thead th {\n",
              "        text-align: right;\n",
              "    }\n",
              "</style>\n",
              "<table border=\"1\" class=\"dataframe\">\n",
              "  <thead>\n",
              "    <tr style=\"text-align: right;\">\n",
              "      <th></th>\n",
              "      <th>alcohol</th>\n",
              "      <th>malic_acid</th>\n",
              "      <th>ash</th>\n",
              "      <th>alcalinity_of_ash</th>\n",
              "      <th>magnesium</th>\n",
              "      <th>total_phenols</th>\n",
              "      <th>flavanoids</th>\n",
              "      <th>nonflavanoid_phenols</th>\n",
              "      <th>proanthocyanins</th>\n",
              "      <th>color_intensity</th>\n",
              "      <th>hue</th>\n",
              "      <th>od280/od315_of_diluted_wines</th>\n",
              "      <th>proline</th>\n",
              "    </tr>\n",
              "  </thead>\n",
              "  <tbody>\n",
              "    <tr>\n",
              "      <th>0</th>\n",
              "      <td>14.23</td>\n",
              "      <td>1.71</td>\n",
              "      <td>2.43</td>\n",
              "      <td>15.6</td>\n",
              "      <td>127.0</td>\n",
              "      <td>2.80</td>\n",
              "      <td>3.06</td>\n",
              "      <td>0.28</td>\n",
              "      <td>2.29</td>\n",
              "      <td>5.64</td>\n",
              "      <td>1.04</td>\n",
              "      <td>3.92</td>\n",
              "      <td>1065.0</td>\n",
              "    </tr>\n",
              "    <tr>\n",
              "      <th>1</th>\n",
              "      <td>13.20</td>\n",
              "      <td>1.78</td>\n",
              "      <td>2.14</td>\n",
              "      <td>11.2</td>\n",
              "      <td>100.0</td>\n",
              "      <td>2.65</td>\n",
              "      <td>2.76</td>\n",
              "      <td>0.26</td>\n",
              "      <td>1.28</td>\n",
              "      <td>4.38</td>\n",
              "      <td>1.05</td>\n",
              "      <td>3.40</td>\n",
              "      <td>1050.0</td>\n",
              "    </tr>\n",
              "    <tr>\n",
              "      <th>2</th>\n",
              "      <td>13.16</td>\n",
              "      <td>2.36</td>\n",
              "      <td>2.67</td>\n",
              "      <td>18.6</td>\n",
              "      <td>101.0</td>\n",
              "      <td>2.80</td>\n",
              "      <td>3.24</td>\n",
              "      <td>0.30</td>\n",
              "      <td>2.81</td>\n",
              "      <td>5.68</td>\n",
              "      <td>1.03</td>\n",
              "      <td>3.17</td>\n",
              "      <td>1185.0</td>\n",
              "    </tr>\n",
              "  </tbody>\n",
              "</table>\n",
              "</div>\n",
              "    <div class=\"colab-df-buttons\">\n",
              "\n",
              "  <div class=\"colab-df-container\">\n",
              "    <button class=\"colab-df-convert\" onclick=\"convertToInteractive('df-e37417c2-e470-4975-973b-62422a80c5b6')\"\n",
              "            title=\"Convert this dataframe to an interactive table.\"\n",
              "            style=\"display:none;\">\n",
              "\n",
              "  <svg xmlns=\"http://www.w3.org/2000/svg\" height=\"24px\" viewBox=\"0 -960 960 960\">\n",
              "    <path d=\"M120-120v-720h720v720H120Zm60-500h600v-160H180v160Zm220 220h160v-160H400v160Zm0 220h160v-160H400v160ZM180-400h160v-160H180v160Zm440 0h160v-160H620v160ZM180-180h160v-160H180v160Zm440 0h160v-160H620v160Z\"/>\n",
              "  </svg>\n",
              "    </button>\n",
              "\n",
              "  <style>\n",
              "    .colab-df-container {\n",
              "      display:flex;\n",
              "      gap: 12px;\n",
              "    }\n",
              "\n",
              "    .colab-df-convert {\n",
              "      background-color: #E8F0FE;\n",
              "      border: none;\n",
              "      border-radius: 50%;\n",
              "      cursor: pointer;\n",
              "      display: none;\n",
              "      fill: #1967D2;\n",
              "      height: 32px;\n",
              "      padding: 0 0 0 0;\n",
              "      width: 32px;\n",
              "    }\n",
              "\n",
              "    .colab-df-convert:hover {\n",
              "      background-color: #E2EBFA;\n",
              "      box-shadow: 0px 1px 2px rgba(60, 64, 67, 0.3), 0px 1px 3px 1px rgba(60, 64, 67, 0.15);\n",
              "      fill: #174EA6;\n",
              "    }\n",
              "\n",
              "    .colab-df-buttons div {\n",
              "      margin-bottom: 4px;\n",
              "    }\n",
              "\n",
              "    [theme=dark] .colab-df-convert {\n",
              "      background-color: #3B4455;\n",
              "      fill: #D2E3FC;\n",
              "    }\n",
              "\n",
              "    [theme=dark] .colab-df-convert:hover {\n",
              "      background-color: #434B5C;\n",
              "      box-shadow: 0px 1px 3px 1px rgba(0, 0, 0, 0.15);\n",
              "      filter: drop-shadow(0px 1px 2px rgba(0, 0, 0, 0.3));\n",
              "      fill: #FFFFFF;\n",
              "    }\n",
              "  </style>\n",
              "\n",
              "    <script>\n",
              "      const buttonEl =\n",
              "        document.querySelector('#df-e37417c2-e470-4975-973b-62422a80c5b6 button.colab-df-convert');\n",
              "      buttonEl.style.display =\n",
              "        google.colab.kernel.accessAllowed ? 'block' : 'none';\n",
              "\n",
              "      async function convertToInteractive(key) {\n",
              "        const element = document.querySelector('#df-e37417c2-e470-4975-973b-62422a80c5b6');\n",
              "        const dataTable =\n",
              "          await google.colab.kernel.invokeFunction('convertToInteractive',\n",
              "                                                    [key], {});\n",
              "        if (!dataTable) return;\n",
              "\n",
              "        const docLinkHtml = 'Like what you see? Visit the ' +\n",
              "          '<a target=\"_blank\" href=https://colab.research.google.com/notebooks/data_table.ipynb>data table notebook</a>'\n",
              "          + ' to learn more about interactive tables.';\n",
              "        element.innerHTML = '';\n",
              "        dataTable['output_type'] = 'display_data';\n",
              "        await google.colab.output.renderOutput(dataTable, element);\n",
              "        const docLink = document.createElement('div');\n",
              "        docLink.innerHTML = docLinkHtml;\n",
              "        element.appendChild(docLink);\n",
              "      }\n",
              "    </script>\n",
              "  </div>\n",
              "\n",
              "\n",
              "<div id=\"df-4822848a-827b-49c2-8a1a-8322bfa3c9b2\">\n",
              "  <button class=\"colab-df-quickchart\" onclick=\"quickchart('df-4822848a-827b-49c2-8a1a-8322bfa3c9b2')\"\n",
              "            title=\"Suggest charts\"\n",
              "            style=\"display:none;\">\n",
              "\n",
              "<svg xmlns=\"http://www.w3.org/2000/svg\" height=\"24px\"viewBox=\"0 0 24 24\"\n",
              "     width=\"24px\">\n",
              "    <g>\n",
              "        <path d=\"M19 3H5c-1.1 0-2 .9-2 2v14c0 1.1.9 2 2 2h14c1.1 0 2-.9 2-2V5c0-1.1-.9-2-2-2zM9 17H7v-7h2v7zm4 0h-2V7h2v10zm4 0h-2v-4h2v4z\"/>\n",
              "    </g>\n",
              "</svg>\n",
              "  </button>\n",
              "\n",
              "<style>\n",
              "  .colab-df-quickchart {\n",
              "      --bg-color: #E8F0FE;\n",
              "      --fill-color: #1967D2;\n",
              "      --hover-bg-color: #E2EBFA;\n",
              "      --hover-fill-color: #174EA6;\n",
              "      --disabled-fill-color: #AAA;\n",
              "      --disabled-bg-color: #DDD;\n",
              "  }\n",
              "\n",
              "  [theme=dark] .colab-df-quickchart {\n",
              "      --bg-color: #3B4455;\n",
              "      --fill-color: #D2E3FC;\n",
              "      --hover-bg-color: #434B5C;\n",
              "      --hover-fill-color: #FFFFFF;\n",
              "      --disabled-bg-color: #3B4455;\n",
              "      --disabled-fill-color: #666;\n",
              "  }\n",
              "\n",
              "  .colab-df-quickchart {\n",
              "    background-color: var(--bg-color);\n",
              "    border: none;\n",
              "    border-radius: 50%;\n",
              "    cursor: pointer;\n",
              "    display: none;\n",
              "    fill: var(--fill-color);\n",
              "    height: 32px;\n",
              "    padding: 0;\n",
              "    width: 32px;\n",
              "  }\n",
              "\n",
              "  .colab-df-quickchart:hover {\n",
              "    background-color: var(--hover-bg-color);\n",
              "    box-shadow: 0 1px 2px rgba(60, 64, 67, 0.3), 0 1px 3px 1px rgba(60, 64, 67, 0.15);\n",
              "    fill: var(--button-hover-fill-color);\n",
              "  }\n",
              "\n",
              "  .colab-df-quickchart-complete:disabled,\n",
              "  .colab-df-quickchart-complete:disabled:hover {\n",
              "    background-color: var(--disabled-bg-color);\n",
              "    fill: var(--disabled-fill-color);\n",
              "    box-shadow: none;\n",
              "  }\n",
              "\n",
              "  .colab-df-spinner {\n",
              "    border: 2px solid var(--fill-color);\n",
              "    border-color: transparent;\n",
              "    border-bottom-color: var(--fill-color);\n",
              "    animation:\n",
              "      spin 1s steps(1) infinite;\n",
              "  }\n",
              "\n",
              "  @keyframes spin {\n",
              "    0% {\n",
              "      border-color: transparent;\n",
              "      border-bottom-color: var(--fill-color);\n",
              "      border-left-color: var(--fill-color);\n",
              "    }\n",
              "    20% {\n",
              "      border-color: transparent;\n",
              "      border-left-color: var(--fill-color);\n",
              "      border-top-color: var(--fill-color);\n",
              "    }\n",
              "    30% {\n",
              "      border-color: transparent;\n",
              "      border-left-color: var(--fill-color);\n",
              "      border-top-color: var(--fill-color);\n",
              "      border-right-color: var(--fill-color);\n",
              "    }\n",
              "    40% {\n",
              "      border-color: transparent;\n",
              "      border-right-color: var(--fill-color);\n",
              "      border-top-color: var(--fill-color);\n",
              "    }\n",
              "    60% {\n",
              "      border-color: transparent;\n",
              "      border-right-color: var(--fill-color);\n",
              "    }\n",
              "    80% {\n",
              "      border-color: transparent;\n",
              "      border-right-color: var(--fill-color);\n",
              "      border-bottom-color: var(--fill-color);\n",
              "    }\n",
              "    90% {\n",
              "      border-color: transparent;\n",
              "      border-bottom-color: var(--fill-color);\n",
              "    }\n",
              "  }\n",
              "</style>\n",
              "\n",
              "  <script>\n",
              "    async function quickchart(key) {\n",
              "      const quickchartButtonEl =\n",
              "        document.querySelector('#' + key + ' button');\n",
              "      quickchartButtonEl.disabled = true;  // To prevent multiple clicks.\n",
              "      quickchartButtonEl.classList.add('colab-df-spinner');\n",
              "      try {\n",
              "        const charts = await google.colab.kernel.invokeFunction(\n",
              "            'suggestCharts', [key], {});\n",
              "      } catch (error) {\n",
              "        console.error('Error during call to suggestCharts:', error);\n",
              "      }\n",
              "      quickchartButtonEl.classList.remove('colab-df-spinner');\n",
              "      quickchartButtonEl.classList.add('colab-df-quickchart-complete');\n",
              "    }\n",
              "    (() => {\n",
              "      let quickchartButtonEl =\n",
              "        document.querySelector('#df-4822848a-827b-49c2-8a1a-8322bfa3c9b2 button');\n",
              "      quickchartButtonEl.style.display =\n",
              "        google.colab.kernel.accessAllowed ? 'block' : 'none';\n",
              "    })();\n",
              "  </script>\n",
              "</div>\n",
              "\n",
              "    </div>\n",
              "  </div>\n"
            ],
            "application/vnd.google.colaboratory.intrinsic+json": {
              "type": "dataframe",
              "variable_name": "wineDF",
              "summary": "{\n  \"name\": \"wineDF\",\n  \"rows\": 178,\n  \"fields\": [\n    {\n      \"column\": \"alcohol\",\n      \"properties\": {\n        \"dtype\": \"number\",\n        \"std\": 0.8118265380058577,\n        \"min\": 11.03,\n        \"max\": 14.83,\n        \"num_unique_values\": 126,\n        \"samples\": [\n          11.62,\n          13.64,\n          13.69\n        ],\n        \"semantic_type\": \"\",\n        \"description\": \"\"\n      }\n    },\n    {\n      \"column\": \"malic_acid\",\n      \"properties\": {\n        \"dtype\": \"number\",\n        \"std\": 1.1171460976144627,\n        \"min\": 0.74,\n        \"max\": 5.8,\n        \"num_unique_values\": 133,\n        \"samples\": [\n          1.21,\n          2.83,\n          1.8\n        ],\n        \"semantic_type\": \"\",\n        \"description\": \"\"\n      }\n    },\n    {\n      \"column\": \"ash\",\n      \"properties\": {\n        \"dtype\": \"number\",\n        \"std\": 0.2743440090608148,\n        \"min\": 1.36,\n        \"max\": 3.23,\n        \"num_unique_values\": 79,\n        \"samples\": [\n          2.31,\n          2.43,\n          2.52\n        ],\n        \"semantic_type\": \"\",\n        \"description\": \"\"\n      }\n    },\n    {\n      \"column\": \"alcalinity_of_ash\",\n      \"properties\": {\n        \"dtype\": \"number\",\n        \"std\": 3.3395637671735052,\n        \"min\": 10.6,\n        \"max\": 30.0,\n        \"num_unique_values\": 63,\n        \"samples\": [\n          25.5,\n          28.5,\n          15.6\n        ],\n        \"semantic_type\": \"\",\n        \"description\": \"\"\n      }\n    },\n    {\n      \"column\": \"magnesium\",\n      \"properties\": {\n        \"dtype\": \"number\",\n        \"std\": 14.282483515295668,\n        \"min\": 70.0,\n        \"max\": 162.0,\n        \"num_unique_values\": 53,\n        \"samples\": [\n          126.0,\n          85.0,\n          162.0\n        ],\n        \"semantic_type\": \"\",\n        \"description\": \"\"\n      }\n    },\n    {\n      \"column\": \"total_phenols\",\n      \"properties\": {\n        \"dtype\": \"number\",\n        \"std\": 0.6258510488339891,\n        \"min\": 0.98,\n        \"max\": 3.88,\n        \"num_unique_values\": 97,\n        \"samples\": [\n          1.68,\n          2.11,\n          1.35\n        ],\n        \"semantic_type\": \"\",\n        \"description\": \"\"\n      }\n    },\n    {\n      \"column\": \"flavanoids\",\n      \"properties\": {\n        \"dtype\": \"number\",\n        \"std\": 0.9988586850169465,\n        \"min\": 0.34,\n        \"max\": 5.08,\n        \"num_unique_values\": 132,\n        \"samples\": [\n          3.18,\n          2.5,\n          3.17\n        ],\n        \"semantic_type\": \"\",\n        \"description\": \"\"\n      }\n    },\n    {\n      \"column\": \"nonflavanoid_phenols\",\n      \"properties\": {\n        \"dtype\": \"number\",\n        \"std\": 0.12445334029667939,\n        \"min\": 0.13,\n        \"max\": 0.66,\n        \"num_unique_values\": 39,\n        \"samples\": [\n          0.58,\n          0.41,\n          0.39\n        ],\n        \"semantic_type\": \"\",\n        \"description\": \"\"\n      }\n    },\n    {\n      \"column\": \"proanthocyanins\",\n      \"properties\": {\n        \"dtype\": \"number\",\n        \"std\": 0.5723588626747611,\n        \"min\": 0.41,\n        \"max\": 3.58,\n        \"num_unique_values\": 101,\n        \"samples\": [\n          0.75,\n          1.77,\n          1.42\n        ],\n        \"semantic_type\": \"\",\n        \"description\": \"\"\n      }\n    },\n    {\n      \"column\": \"color_intensity\",\n      \"properties\": {\n        \"dtype\": \"number\",\n        \"std\": 2.318285871822413,\n        \"min\": 1.28,\n        \"max\": 13.0,\n        \"num_unique_values\": 132,\n        \"samples\": [\n          2.95,\n          3.3,\n          5.1\n        ],\n        \"semantic_type\": \"\",\n        \"description\": \"\"\n      }\n    },\n    {\n      \"column\": \"hue\",\n      \"properties\": {\n        \"dtype\": \"number\",\n        \"std\": 0.22857156582982338,\n        \"min\": 0.48,\n        \"max\": 1.71,\n        \"num_unique_values\": 78,\n        \"samples\": [\n          1.22,\n          1.04,\n          1.45\n        ],\n        \"semantic_type\": \"\",\n        \"description\": \"\"\n      }\n    },\n    {\n      \"column\": \"od280/od315_of_diluted_wines\",\n      \"properties\": {\n        \"dtype\": \"number\",\n        \"std\": 0.7099904287650505,\n        \"min\": 1.27,\n        \"max\": 4.0,\n        \"num_unique_values\": 122,\n        \"samples\": [\n          4.0,\n          1.82,\n          1.59\n        ],\n        \"semantic_type\": \"\",\n        \"description\": \"\"\n      }\n    },\n    {\n      \"column\": \"proline\",\n      \"properties\": {\n        \"dtype\": \"number\",\n        \"std\": 314.9074742768489,\n        \"min\": 278.0,\n        \"max\": 1680.0,\n        \"num_unique_values\": 121,\n        \"samples\": [\n          1375.0,\n          1270.0,\n          735.0\n        ],\n        \"semantic_type\": \"\",\n        \"description\": \"\"\n      }\n    }\n  ]\n}"
            }
          },
          "metadata": {},
          "execution_count": 2
        }
      ],
      "source": [
        "# 필요한 라이브러리 임포트\n",
        "from sklearn.datasets import load_wine\n",
        "from sklearn.cluster import KMeans\n",
        "import pandas as pd\n",
        "from sklearn.preprocessing import StandardScaler\n",
        "# 와인 데이터셋 로드\n",
        "wine = load_wine()\n",
        "\n",
        "# DataFrame 변환\n",
        "wineDF = pd.DataFrame(data=wine.data, columns=wine.feature_names)\n",
        "\n",
        "# 변환된 데이터프레임 확인\n",
        "wineDF.head(3)"
      ]
    },
    {
      "cell_type": "markdown",
      "id": "dd3c983e-8cad-4d17-ab26-5ff918b47541",
      "metadata": {
        "id": "dd3c983e-8cad-4d17-ab26-5ff918b47541"
      },
      "source": [
        "##**1-2.데이터 스케일링 및 K-means 모델 생성하고 학습하기**"
      ]
    },
    {
      "cell_type": "markdown",
      "id": "340ccc83-72b2-4529-87af-83bfa526f25e",
      "metadata": {
        "id": "340ccc83-72b2-4529-87af-83bfa526f25e"
      },
      "source": [
        "모델의 파라미터\n",
        "- 3개의 그룹으로 군집화되며\n",
        "- 초기 중심 설정 방식은 디폴트 값으로\n",
        "- 최대 반복 횟수 또한 디폴트 값 300으로 되도록 설정하기"
      ]
    },
    {
      "cell_type": "code",
      "execution_count": null,
      "id": "0aa82c89-1100-4381-a593-0f0cbf320681",
      "metadata": {
        "id": "0aa82c89-1100-4381-a593-0f0cbf320681",
        "colab": {
          "base_uri": "https://localhost:8080/"
        },
        "outputId": "ee7c84bc-e1ed-4ea6-9588-39a78f8e7b7a"
      },
      "outputs": [
        {
          "output_type": "stream",
          "name": "stdout",
          "text": [
            "[2 2 2 2 2 2 2 2 2 2 2 2 2 2 2 2 2 2 2 2 2 2 2 2 2 2 2 2 2 2 2 2 2 2 2 2 2\n",
            " 2 2 2 2 2 2 2 2 2 2 2 2 2 2 2 2 2 2 2 2 2 2 0 0 1 0 0 0 0 0 0 0 0 0 0 0 2\n",
            " 0 0 0 0 0 0 0 0 0 1 0 0 0 0 0 0 0 0 0 0 0 2 0 0 0 0 0 0 0 0 0 0 0 0 0 0 0\n",
            " 0 0 0 0 0 0 0 1 0 0 2 0 0 0 0 0 0 0 0 1 1 1 1 1 1 1 1 1 1 1 1 1 1 1 1 1 1\n",
            " 1 1 1 1 1 1 1 1 1 1 1 1 1 1 1 1 1 1 1 1 1 1 1 1 1 1 1 1 1 1]\n"
          ]
        }
      ],
      "source": [
        "# 데이터 스케일링\n",
        "scaler = StandardScaler()\n",
        "wine_scaled = scaler.fit_transform(wineDF)\n",
        "\n",
        "# K-Means 모델 생성 및 학습\n",
        "kmeans = KMeans(n_clusters=3, init='k-means++', n_init=10, random_state=0)\n",
        "kmeans.fit(wine_scaled)\n",
        "# KMeans의 label_ 속성값 확인해보기\n",
        "print(kmeans.labels_)"
      ]
    },
    {
      "cell_type": "markdown",
      "id": "0218fd10-3284-4539-92fe-4a971c3b6e43",
      "metadata": {
        "id": "0218fd10-3284-4539-92fe-4a971c3b6e43"
      },
      "source": [
        "##**1-3. 실제 와인 품질 분류와 얼마나 차이가 나는지 군집화가 효과적으로 되었는지 확인해보기(GroupBy 연산 활용)**"
      ]
    },
    {
      "cell_type": "markdown",
      "id": "e780f87f-041b-4d06-86dd-4eb89879bf93",
      "metadata": {
        "id": "e780f87f-041b-4d06-86dd-4eb89879bf93"
      },
      "source": [
        "- 와인 데이터셋 분류값 target을 'target' 칼럼으로 추가하기\n",
        "- K-means 모델의 군집화 분류값 labels_을 'cluster' 칼럼으로 추가하기"
      ]
    },
    {
      "cell_type": "code",
      "execution_count": null,
      "id": "48cc58ff-ba9c-45ac-a710-6439364c8980",
      "metadata": {
        "id": "48cc58ff-ba9c-45ac-a710-6439364c8980",
        "colab": {
          "base_uri": "https://localhost:8080/"
        },
        "outputId": "dfadb921-2f09-4ca9-cbb7-b18526373bb1"
      },
      "outputs": [
        {
          "output_type": "stream",
          "name": "stdout",
          "text": [
            "target  cluster\n",
            "0       2          59\n",
            "1       0          65\n",
            "        1           3\n",
            "        2           3\n",
            "2       1          48\n",
            "Name: alcohol, dtype: int64\n"
          ]
        }
      ],
      "source": [
        "# 실제 레이블(target)과 클러스터 결과(cluster) 비교\n",
        "# 실제 레이블 추가\n",
        "wineDF['target'] = wine.target\n",
        "# K-Means 클러스터 결과 추가\n",
        "wineDF['cluster'] = kmeans.labels_\n",
        "\n",
        "# GroupBy 연산을 통해 비교\n",
        "wine_result = wineDF.groupby(['target', 'cluster'])[wine.feature_names[0]].count()\n",
        "print(wine_result)"
      ]
    },
    {
      "cell_type": "markdown",
      "id": "2dff9fb5-8f8c-407f-9c4a-e4d36ae4aee7",
      "metadata": {
        "id": "2dff9fb5-8f8c-407f-9c4a-e4d36ae4aee7"
      },
      "source": [
        "##**1-4. 차원 축소 실행하기**"
      ]
    },
    {
      "cell_type": "markdown",
      "id": "b2dfaa3c-dba5-40ce-968c-cce9389a5dcb",
      "metadata": {
        "id": "b2dfaa3c-dba5-40ce-968c-cce9389a5dcb"
      },
      "source": [
        "- 2개의 차원으로 축소할 수 있도록 PCA의 컴포넌트 값 집어넣기"
      ]
    },
    {
      "cell_type": "code",
      "execution_count": null,
      "id": "ad45cebc-ca2f-48d0-881a-4ccb6843f2fd",
      "metadata": {
        "id": "ad45cebc-ca2f-48d0-881a-4ccb6843f2fd",
        "colab": {
          "base_uri": "https://localhost:8080/",
          "height": 163
        },
        "outputId": "1425f9e6-0c0d-476d-8f64-889556cfeaab"
      },
      "outputs": [
        {
          "output_type": "execute_result",
          "data": {
            "text/plain": [
              "   alcohol  malic_acid   ash  alcalinity_of_ash  magnesium  total_phenols  \\\n",
              "0    14.23        1.71  2.43               15.6      127.0           2.80   \n",
              "1    13.20        1.78  2.14               11.2      100.0           2.65   \n",
              "2    13.16        2.36  2.67               18.6      101.0           2.80   \n",
              "\n",
              "   flavanoids  nonflavanoid_phenols  proanthocyanins  color_intensity   hue  \\\n",
              "0        3.06                  0.28             2.29             5.64  1.04   \n",
              "1        2.76                  0.26             1.28             4.38  1.05   \n",
              "2        3.24                  0.30             2.81             5.68  1.03   \n",
              "\n",
              "   od280/od315_of_diluted_wines  proline  target  cluster     pca_x     pca_y  \n",
              "0                          3.92   1065.0       0        2  3.316751  1.443463  \n",
              "1                          3.40   1050.0       0        2  2.209465 -0.333393  \n",
              "2                          3.17   1185.0       0        2  2.516740  1.031151  "
            ],
            "text/html": [
              "\n",
              "  <div id=\"df-090dd3d9-ae99-4c47-816f-68482140860a\" class=\"colab-df-container\">\n",
              "    <div>\n",
              "<style scoped>\n",
              "    .dataframe tbody tr th:only-of-type {\n",
              "        vertical-align: middle;\n",
              "    }\n",
              "\n",
              "    .dataframe tbody tr th {\n",
              "        vertical-align: top;\n",
              "    }\n",
              "\n",
              "    .dataframe thead th {\n",
              "        text-align: right;\n",
              "    }\n",
              "</style>\n",
              "<table border=\"1\" class=\"dataframe\">\n",
              "  <thead>\n",
              "    <tr style=\"text-align: right;\">\n",
              "      <th></th>\n",
              "      <th>alcohol</th>\n",
              "      <th>malic_acid</th>\n",
              "      <th>ash</th>\n",
              "      <th>alcalinity_of_ash</th>\n",
              "      <th>magnesium</th>\n",
              "      <th>total_phenols</th>\n",
              "      <th>flavanoids</th>\n",
              "      <th>nonflavanoid_phenols</th>\n",
              "      <th>proanthocyanins</th>\n",
              "      <th>color_intensity</th>\n",
              "      <th>hue</th>\n",
              "      <th>od280/od315_of_diluted_wines</th>\n",
              "      <th>proline</th>\n",
              "      <th>target</th>\n",
              "      <th>cluster</th>\n",
              "      <th>pca_x</th>\n",
              "      <th>pca_y</th>\n",
              "    </tr>\n",
              "  </thead>\n",
              "  <tbody>\n",
              "    <tr>\n",
              "      <th>0</th>\n",
              "      <td>14.23</td>\n",
              "      <td>1.71</td>\n",
              "      <td>2.43</td>\n",
              "      <td>15.6</td>\n",
              "      <td>127.0</td>\n",
              "      <td>2.80</td>\n",
              "      <td>3.06</td>\n",
              "      <td>0.28</td>\n",
              "      <td>2.29</td>\n",
              "      <td>5.64</td>\n",
              "      <td>1.04</td>\n",
              "      <td>3.92</td>\n",
              "      <td>1065.0</td>\n",
              "      <td>0</td>\n",
              "      <td>2</td>\n",
              "      <td>3.316751</td>\n",
              "      <td>1.443463</td>\n",
              "    </tr>\n",
              "    <tr>\n",
              "      <th>1</th>\n",
              "      <td>13.20</td>\n",
              "      <td>1.78</td>\n",
              "      <td>2.14</td>\n",
              "      <td>11.2</td>\n",
              "      <td>100.0</td>\n",
              "      <td>2.65</td>\n",
              "      <td>2.76</td>\n",
              "      <td>0.26</td>\n",
              "      <td>1.28</td>\n",
              "      <td>4.38</td>\n",
              "      <td>1.05</td>\n",
              "      <td>3.40</td>\n",
              "      <td>1050.0</td>\n",
              "      <td>0</td>\n",
              "      <td>2</td>\n",
              "      <td>2.209465</td>\n",
              "      <td>-0.333393</td>\n",
              "    </tr>\n",
              "    <tr>\n",
              "      <th>2</th>\n",
              "      <td>13.16</td>\n",
              "      <td>2.36</td>\n",
              "      <td>2.67</td>\n",
              "      <td>18.6</td>\n",
              "      <td>101.0</td>\n",
              "      <td>2.80</td>\n",
              "      <td>3.24</td>\n",
              "      <td>0.30</td>\n",
              "      <td>2.81</td>\n",
              "      <td>5.68</td>\n",
              "      <td>1.03</td>\n",
              "      <td>3.17</td>\n",
              "      <td>1185.0</td>\n",
              "      <td>0</td>\n",
              "      <td>2</td>\n",
              "      <td>2.516740</td>\n",
              "      <td>1.031151</td>\n",
              "    </tr>\n",
              "  </tbody>\n",
              "</table>\n",
              "</div>\n",
              "    <div class=\"colab-df-buttons\">\n",
              "\n",
              "  <div class=\"colab-df-container\">\n",
              "    <button class=\"colab-df-convert\" onclick=\"convertToInteractive('df-090dd3d9-ae99-4c47-816f-68482140860a')\"\n",
              "            title=\"Convert this dataframe to an interactive table.\"\n",
              "            style=\"display:none;\">\n",
              "\n",
              "  <svg xmlns=\"http://www.w3.org/2000/svg\" height=\"24px\" viewBox=\"0 -960 960 960\">\n",
              "    <path d=\"M120-120v-720h720v720H120Zm60-500h600v-160H180v160Zm220 220h160v-160H400v160Zm0 220h160v-160H400v160ZM180-400h160v-160H180v160Zm440 0h160v-160H620v160ZM180-180h160v-160H180v160Zm440 0h160v-160H620v160Z\"/>\n",
              "  </svg>\n",
              "    </button>\n",
              "\n",
              "  <style>\n",
              "    .colab-df-container {\n",
              "      display:flex;\n",
              "      gap: 12px;\n",
              "    }\n",
              "\n",
              "    .colab-df-convert {\n",
              "      background-color: #E8F0FE;\n",
              "      border: none;\n",
              "      border-radius: 50%;\n",
              "      cursor: pointer;\n",
              "      display: none;\n",
              "      fill: #1967D2;\n",
              "      height: 32px;\n",
              "      padding: 0 0 0 0;\n",
              "      width: 32px;\n",
              "    }\n",
              "\n",
              "    .colab-df-convert:hover {\n",
              "      background-color: #E2EBFA;\n",
              "      box-shadow: 0px 1px 2px rgba(60, 64, 67, 0.3), 0px 1px 3px 1px rgba(60, 64, 67, 0.15);\n",
              "      fill: #174EA6;\n",
              "    }\n",
              "\n",
              "    .colab-df-buttons div {\n",
              "      margin-bottom: 4px;\n",
              "    }\n",
              "\n",
              "    [theme=dark] .colab-df-convert {\n",
              "      background-color: #3B4455;\n",
              "      fill: #D2E3FC;\n",
              "    }\n",
              "\n",
              "    [theme=dark] .colab-df-convert:hover {\n",
              "      background-color: #434B5C;\n",
              "      box-shadow: 0px 1px 3px 1px rgba(0, 0, 0, 0.15);\n",
              "      filter: drop-shadow(0px 1px 2px rgba(0, 0, 0, 0.3));\n",
              "      fill: #FFFFFF;\n",
              "    }\n",
              "  </style>\n",
              "\n",
              "    <script>\n",
              "      const buttonEl =\n",
              "        document.querySelector('#df-090dd3d9-ae99-4c47-816f-68482140860a button.colab-df-convert');\n",
              "      buttonEl.style.display =\n",
              "        google.colab.kernel.accessAllowed ? 'block' : 'none';\n",
              "\n",
              "      async function convertToInteractive(key) {\n",
              "        const element = document.querySelector('#df-090dd3d9-ae99-4c47-816f-68482140860a');\n",
              "        const dataTable =\n",
              "          await google.colab.kernel.invokeFunction('convertToInteractive',\n",
              "                                                    [key], {});\n",
              "        if (!dataTable) return;\n",
              "\n",
              "        const docLinkHtml = 'Like what you see? Visit the ' +\n",
              "          '<a target=\"_blank\" href=https://colab.research.google.com/notebooks/data_table.ipynb>data table notebook</a>'\n",
              "          + ' to learn more about interactive tables.';\n",
              "        element.innerHTML = '';\n",
              "        dataTable['output_type'] = 'display_data';\n",
              "        await google.colab.output.renderOutput(dataTable, element);\n",
              "        const docLink = document.createElement('div');\n",
              "        docLink.innerHTML = docLinkHtml;\n",
              "        element.appendChild(docLink);\n",
              "      }\n",
              "    </script>\n",
              "  </div>\n",
              "\n",
              "\n",
              "<div id=\"df-6017323d-b99a-4db3-a38d-ab78fcda556e\">\n",
              "  <button class=\"colab-df-quickchart\" onclick=\"quickchart('df-6017323d-b99a-4db3-a38d-ab78fcda556e')\"\n",
              "            title=\"Suggest charts\"\n",
              "            style=\"display:none;\">\n",
              "\n",
              "<svg xmlns=\"http://www.w3.org/2000/svg\" height=\"24px\"viewBox=\"0 0 24 24\"\n",
              "     width=\"24px\">\n",
              "    <g>\n",
              "        <path d=\"M19 3H5c-1.1 0-2 .9-2 2v14c0 1.1.9 2 2 2h14c1.1 0 2-.9 2-2V5c0-1.1-.9-2-2-2zM9 17H7v-7h2v7zm4 0h-2V7h2v10zm4 0h-2v-4h2v4z\"/>\n",
              "    </g>\n",
              "</svg>\n",
              "  </button>\n",
              "\n",
              "<style>\n",
              "  .colab-df-quickchart {\n",
              "      --bg-color: #E8F0FE;\n",
              "      --fill-color: #1967D2;\n",
              "      --hover-bg-color: #E2EBFA;\n",
              "      --hover-fill-color: #174EA6;\n",
              "      --disabled-fill-color: #AAA;\n",
              "      --disabled-bg-color: #DDD;\n",
              "  }\n",
              "\n",
              "  [theme=dark] .colab-df-quickchart {\n",
              "      --bg-color: #3B4455;\n",
              "      --fill-color: #D2E3FC;\n",
              "      --hover-bg-color: #434B5C;\n",
              "      --hover-fill-color: #FFFFFF;\n",
              "      --disabled-bg-color: #3B4455;\n",
              "      --disabled-fill-color: #666;\n",
              "  }\n",
              "\n",
              "  .colab-df-quickchart {\n",
              "    background-color: var(--bg-color);\n",
              "    border: none;\n",
              "    border-radius: 50%;\n",
              "    cursor: pointer;\n",
              "    display: none;\n",
              "    fill: var(--fill-color);\n",
              "    height: 32px;\n",
              "    padding: 0;\n",
              "    width: 32px;\n",
              "  }\n",
              "\n",
              "  .colab-df-quickchart:hover {\n",
              "    background-color: var(--hover-bg-color);\n",
              "    box-shadow: 0 1px 2px rgba(60, 64, 67, 0.3), 0 1px 3px 1px rgba(60, 64, 67, 0.15);\n",
              "    fill: var(--button-hover-fill-color);\n",
              "  }\n",
              "\n",
              "  .colab-df-quickchart-complete:disabled,\n",
              "  .colab-df-quickchart-complete:disabled:hover {\n",
              "    background-color: var(--disabled-bg-color);\n",
              "    fill: var(--disabled-fill-color);\n",
              "    box-shadow: none;\n",
              "  }\n",
              "\n",
              "  .colab-df-spinner {\n",
              "    border: 2px solid var(--fill-color);\n",
              "    border-color: transparent;\n",
              "    border-bottom-color: var(--fill-color);\n",
              "    animation:\n",
              "      spin 1s steps(1) infinite;\n",
              "  }\n",
              "\n",
              "  @keyframes spin {\n",
              "    0% {\n",
              "      border-color: transparent;\n",
              "      border-bottom-color: var(--fill-color);\n",
              "      border-left-color: var(--fill-color);\n",
              "    }\n",
              "    20% {\n",
              "      border-color: transparent;\n",
              "      border-left-color: var(--fill-color);\n",
              "      border-top-color: var(--fill-color);\n",
              "    }\n",
              "    30% {\n",
              "      border-color: transparent;\n",
              "      border-left-color: var(--fill-color);\n",
              "      border-top-color: var(--fill-color);\n",
              "      border-right-color: var(--fill-color);\n",
              "    }\n",
              "    40% {\n",
              "      border-color: transparent;\n",
              "      border-right-color: var(--fill-color);\n",
              "      border-top-color: var(--fill-color);\n",
              "    }\n",
              "    60% {\n",
              "      border-color: transparent;\n",
              "      border-right-color: var(--fill-color);\n",
              "    }\n",
              "    80% {\n",
              "      border-color: transparent;\n",
              "      border-right-color: var(--fill-color);\n",
              "      border-bottom-color: var(--fill-color);\n",
              "    }\n",
              "    90% {\n",
              "      border-color: transparent;\n",
              "      border-bottom-color: var(--fill-color);\n",
              "    }\n",
              "  }\n",
              "</style>\n",
              "\n",
              "  <script>\n",
              "    async function quickchart(key) {\n",
              "      const quickchartButtonEl =\n",
              "        document.querySelector('#' + key + ' button');\n",
              "      quickchartButtonEl.disabled = true;  // To prevent multiple clicks.\n",
              "      quickchartButtonEl.classList.add('colab-df-spinner');\n",
              "      try {\n",
              "        const charts = await google.colab.kernel.invokeFunction(\n",
              "            'suggestCharts', [key], {});\n",
              "      } catch (error) {\n",
              "        console.error('Error during call to suggestCharts:', error);\n",
              "      }\n",
              "      quickchartButtonEl.classList.remove('colab-df-spinner');\n",
              "      quickchartButtonEl.classList.add('colab-df-quickchart-complete');\n",
              "    }\n",
              "    (() => {\n",
              "      let quickchartButtonEl =\n",
              "        document.querySelector('#df-6017323d-b99a-4db3-a38d-ab78fcda556e button');\n",
              "      quickchartButtonEl.style.display =\n",
              "        google.colab.kernel.accessAllowed ? 'block' : 'none';\n",
              "    })();\n",
              "  </script>\n",
              "</div>\n",
              "\n",
              "    </div>\n",
              "  </div>\n"
            ],
            "application/vnd.google.colaboratory.intrinsic+json": {
              "type": "dataframe",
              "variable_name": "wineDF",
              "summary": "{\n  \"name\": \"wineDF\",\n  \"rows\": 178,\n  \"fields\": [\n    {\n      \"column\": \"alcohol\",\n      \"properties\": {\n        \"dtype\": \"number\",\n        \"std\": 0.8118265380058577,\n        \"min\": 11.03,\n        \"max\": 14.83,\n        \"num_unique_values\": 126,\n        \"samples\": [\n          11.62,\n          13.64,\n          13.69\n        ],\n        \"semantic_type\": \"\",\n        \"description\": \"\"\n      }\n    },\n    {\n      \"column\": \"malic_acid\",\n      \"properties\": {\n        \"dtype\": \"number\",\n        \"std\": 1.1171460976144627,\n        \"min\": 0.74,\n        \"max\": 5.8,\n        \"num_unique_values\": 133,\n        \"samples\": [\n          1.21,\n          2.83,\n          1.8\n        ],\n        \"semantic_type\": \"\",\n        \"description\": \"\"\n      }\n    },\n    {\n      \"column\": \"ash\",\n      \"properties\": {\n        \"dtype\": \"number\",\n        \"std\": 0.2743440090608148,\n        \"min\": 1.36,\n        \"max\": 3.23,\n        \"num_unique_values\": 79,\n        \"samples\": [\n          2.31,\n          2.43,\n          2.52\n        ],\n        \"semantic_type\": \"\",\n        \"description\": \"\"\n      }\n    },\n    {\n      \"column\": \"alcalinity_of_ash\",\n      \"properties\": {\n        \"dtype\": \"number\",\n        \"std\": 3.3395637671735052,\n        \"min\": 10.6,\n        \"max\": 30.0,\n        \"num_unique_values\": 63,\n        \"samples\": [\n          25.5,\n          28.5,\n          15.6\n        ],\n        \"semantic_type\": \"\",\n        \"description\": \"\"\n      }\n    },\n    {\n      \"column\": \"magnesium\",\n      \"properties\": {\n        \"dtype\": \"number\",\n        \"std\": 14.282483515295668,\n        \"min\": 70.0,\n        \"max\": 162.0,\n        \"num_unique_values\": 53,\n        \"samples\": [\n          126.0,\n          85.0,\n          162.0\n        ],\n        \"semantic_type\": \"\",\n        \"description\": \"\"\n      }\n    },\n    {\n      \"column\": \"total_phenols\",\n      \"properties\": {\n        \"dtype\": \"number\",\n        \"std\": 0.6258510488339891,\n        \"min\": 0.98,\n        \"max\": 3.88,\n        \"num_unique_values\": 97,\n        \"samples\": [\n          1.68,\n          2.11,\n          1.35\n        ],\n        \"semantic_type\": \"\",\n        \"description\": \"\"\n      }\n    },\n    {\n      \"column\": \"flavanoids\",\n      \"properties\": {\n        \"dtype\": \"number\",\n        \"std\": 0.9988586850169465,\n        \"min\": 0.34,\n        \"max\": 5.08,\n        \"num_unique_values\": 132,\n        \"samples\": [\n          3.18,\n          2.5,\n          3.17\n        ],\n        \"semantic_type\": \"\",\n        \"description\": \"\"\n      }\n    },\n    {\n      \"column\": \"nonflavanoid_phenols\",\n      \"properties\": {\n        \"dtype\": \"number\",\n        \"std\": 0.12445334029667939,\n        \"min\": 0.13,\n        \"max\": 0.66,\n        \"num_unique_values\": 39,\n        \"samples\": [\n          0.58,\n          0.41,\n          0.39\n        ],\n        \"semantic_type\": \"\",\n        \"description\": \"\"\n      }\n    },\n    {\n      \"column\": \"proanthocyanins\",\n      \"properties\": {\n        \"dtype\": \"number\",\n        \"std\": 0.5723588626747611,\n        \"min\": 0.41,\n        \"max\": 3.58,\n        \"num_unique_values\": 101,\n        \"samples\": [\n          0.75,\n          1.77,\n          1.42\n        ],\n        \"semantic_type\": \"\",\n        \"description\": \"\"\n      }\n    },\n    {\n      \"column\": \"color_intensity\",\n      \"properties\": {\n        \"dtype\": \"number\",\n        \"std\": 2.318285871822413,\n        \"min\": 1.28,\n        \"max\": 13.0,\n        \"num_unique_values\": 132,\n        \"samples\": [\n          2.95,\n          3.3,\n          5.1\n        ],\n        \"semantic_type\": \"\",\n        \"description\": \"\"\n      }\n    },\n    {\n      \"column\": \"hue\",\n      \"properties\": {\n        \"dtype\": \"number\",\n        \"std\": 0.22857156582982338,\n        \"min\": 0.48,\n        \"max\": 1.71,\n        \"num_unique_values\": 78,\n        \"samples\": [\n          1.22,\n          1.04,\n          1.45\n        ],\n        \"semantic_type\": \"\",\n        \"description\": \"\"\n      }\n    },\n    {\n      \"column\": \"od280/od315_of_diluted_wines\",\n      \"properties\": {\n        \"dtype\": \"number\",\n        \"std\": 0.7099904287650505,\n        \"min\": 1.27,\n        \"max\": 4.0,\n        \"num_unique_values\": 122,\n        \"samples\": [\n          4.0,\n          1.82,\n          1.59\n        ],\n        \"semantic_type\": \"\",\n        \"description\": \"\"\n      }\n    },\n    {\n      \"column\": \"proline\",\n      \"properties\": {\n        \"dtype\": \"number\",\n        \"std\": 314.9074742768489,\n        \"min\": 278.0,\n        \"max\": 1680.0,\n        \"num_unique_values\": 121,\n        \"samples\": [\n          1375.0,\n          1270.0,\n          735.0\n        ],\n        \"semantic_type\": \"\",\n        \"description\": \"\"\n      }\n    },\n    {\n      \"column\": \"target\",\n      \"properties\": {\n        \"dtype\": \"number\",\n        \"std\": 0,\n        \"min\": 0,\n        \"max\": 2,\n        \"num_unique_values\": 3,\n        \"samples\": [\n          0,\n          1,\n          2\n        ],\n        \"semantic_type\": \"\",\n        \"description\": \"\"\n      }\n    },\n    {\n      \"column\": \"cluster\",\n      \"properties\": {\n        \"dtype\": \"int32\",\n        \"num_unique_values\": 3,\n        \"samples\": [\n          2,\n          0,\n          1\n        ],\n        \"semantic_type\": \"\",\n        \"description\": \"\"\n      }\n    },\n    {\n      \"column\": \"pca_x\",\n      \"properties\": {\n        \"dtype\": \"number\",\n        \"std\": 2.1754165066909805,\n        \"min\": -4.280638778751087,\n        \"max\": 4.312783906765563,\n        \"num_unique_values\": 178,\n        \"samples\": [\n          2.084522204730313,\n          1.1361661775610186,\n          -2.778812947632515\n        ],\n        \"semantic_type\": \"\",\n        \"description\": \"\"\n      }\n    },\n    {\n      \"column\": \"pca_y\",\n      \"properties\": {\n        \"dtype\": \"number\",\n        \"std\": 1.5846390534267183,\n        \"min\": -3.8717838484072393,\n        \"max\": 3.5150896912197314,\n        \"num_unique_values\": 178,\n        \"samples\": [\n          1.0611379935838594,\n          1.7771073929776373,\n          0.28680487288217466\n        ],\n        \"semantic_type\": \"\",\n        \"description\": \"\"\n      }\n    }\n  ]\n}"
            }
          },
          "metadata": {},
          "execution_count": 6
        }
      ],
      "source": [
        "from sklearn.decomposition import PCA\n",
        "import matplotlib.pyplot as plt\n",
        "\n",
        "# PCA를 이용한 차원 축소 (2개 차원)\n",
        "pca = PCA(n_components=2)\n",
        "# 스케일링 진행하기\n",
        "pca_transformed = pca.fit_transform(wine_scaled)\n",
        "wineDF['pca_x'] = pca_transformed[:, 0]\n",
        "wineDF['pca_y'] = pca_transformed[:, 1]\n",
        "\n",
        "# PCA 변환 결과 확인\n",
        "wineDF.head(3)"
      ]
    },
    {
      "cell_type": "markdown",
      "id": "61ed4395-12dc-452b-a9ac-7a638c67c8e3",
      "metadata": {
        "id": "61ed4395-12dc-452b-a9ac-7a638c67c8e3"
      },
      "source": [
        "##**1-5. 군집 결과 시각화**"
      ]
    },
    {
      "cell_type": "markdown",
      "id": "0506c1dd-6db2-4fa9-a7ee-a9b2b1c488b1",
      "metadata": {
        "id": "0506c1dd-6db2-4fa9-a7ee-a9b2b1c488b1"
      },
      "source": [
        "- pca_x가 x좌표 값을 나타내도록\n",
        "- pca_y가 y좌표 값을 나타내도록\n",
        "- 군집 값 0의 마커는 'o', 군집 값 1의 마커는 's', 군집 값 2의 마커는 '^'"
      ]
    },
    {
      "cell_type": "code",
      "execution_count": null,
      "id": "fd24c1bf-7899-422e-9e42-a21afa3cf753",
      "metadata": {
        "id": "fd24c1bf-7899-422e-9e42-a21afa3cf753",
        "colab": {
          "base_uri": "https://localhost:8080/",
          "height": 472
        },
        "outputId": "2d9e0ab0-f044-453f-dd80-4f37caff65d4"
      },
      "outputs": [
        {
          "output_type": "display_data",
          "data": {
            "text/plain": [
              "<Figure size 640x480 with 1 Axes>"
            ],
            "image/png": "[encoded data removed]"
          },
          "metadata": {}
        }
      ],
      "source": [
        "# 군집 결과 시각화\n",
        "# 군집 값이 0, 1, 2인 경우 각각의 인덱스 추출\n",
        "marker0_ind = wineDF[wineDF['cluster'] == 0].index\n",
        "marker1_ind = wineDF[wineDF['cluster'] == 1].index\n",
        "marker2_ind = wineDF[wineDF['cluster'] == 2].index\n",
        "\n",
        "# 군집 값 0, 1, 2에 해당하는 데이터를 각각 다른 마커로 표시\n",
        "plt.scatter(x=wineDF.loc[marker0_ind, 'pca_x'], y=wineDF.loc[marker0_ind, 'pca_y'], marker='o', label='Cluster 0')\n",
        "plt.scatter(x=wineDF.loc[marker1_ind, 'pca_x'], y=wineDF.loc[marker1_ind, 'pca_y'], marker='s', label='Cluster 1')\n",
        "plt.scatter(x=wineDF.loc[marker2_ind, 'pca_x'], y=wineDF.loc[marker2_ind, 'pca_y'], marker='^', label='Cluster 2')\n",
        "\n",
        "# 시각화 설정\n",
        "plt.xlabel('PCA 1')\n",
        "plt.ylabel('PCA 2')\n",
        "plt.title('3 Cluster Visualization by 2 PCA Components')\n",
        "plt.legend()\n",
        "plt.show()"
      ]
    },
    {
      "cell_type": "markdown",
      "id": "b4982095-bdcf-4dcf-a059-b679630994c6",
      "metadata": {
        "id": "b4982095-bdcf-4dcf-a059-b679630994c6"
      },
      "source": [
        "#**2. 군집 평가**"
      ]
    },
    {
      "cell_type": "markdown",
      "id": "8129637c-bd0c-4962-a0e8-b783bc4b23a9",
      "metadata": {
        "id": "8129637c-bd0c-4962-a0e8-b783bc4b23a9"
      },
      "source": [
        "##**2-1. 실루엣 계수와 평균 실루엣 계수 계산하기**"
      ]
    },
    {
      "cell_type": "markdown",
      "id": "ff0d2ad5-9c37-442b-a395-b8fe0872f6ba",
      "metadata": {
        "id": "ff0d2ad5-9c37-442b-a395-b8fe0872f6ba"
      },
      "source": [
        "- 실루엣 계수 메서드 : 스케일링된 wine_scaled와 군집 레이블값 wineDF['cluster']을 인자로\n",
        "- 평균 실루엣 계수 메서드 : 스케일링된 wine_scaled와 군집 레이블값 wineDF['cluster']을 인자로"
      ]
    },
    {
      "cell_type": "code",
      "execution_count": null,
      "id": "2a6ea7b3-a1bf-4390-bc6c-9a7bae6fcd64",
      "metadata": {
        "id": "2a6ea7b3-a1bf-4390-bc6c-9a7bae6fcd64",
        "colab": {
          "base_uri": "https://localhost:8080/",
          "height": 227
        },
        "outputId": "f64e10c6-60d5-4c63-8309-0994406ce824"
      },
      "outputs": [
        {
          "output_type": "stream",
          "name": "stdout",
          "text": [
            "와인 데이터 세트 Silhouette Analysis Score: 0.285\n"
          ]
        },
        {
          "output_type": "execute_result",
          "data": {
            "text/plain": [
              "cluster\n",
              "0    0.177409\n",
              "1    0.350622\n",
              "2    0.343413\n",
              "Name: silhouette_coeff, dtype: float64"
            ],
            "text/html": [
              "<div>\n",
              "<style scoped>\n",
              "    .dataframe tbody tr th:only-of-type {\n",
              "        vertical-align: middle;\n",
              "    }\n",
              "\n",
              "    .dataframe tbody tr th {\n",
              "        vertical-align: top;\n",
              "    }\n",
              "\n",
              "    .dataframe thead th {\n",
              "        text-align: right;\n",
              "    }\n",
              "</style>\n",
              "<table border=\"1\" class=\"dataframe\">\n",
              "  <thead>\n",
              "    <tr style=\"text-align: right;\">\n",
              "      <th></th>\n",
              "      <th>silhouette_coeff</th>\n",
              "    </tr>\n",
              "    <tr>\n",
              "      <th>cluster</th>\n",
              "      <th></th>\n",
              "    </tr>\n",
              "  </thead>\n",
              "  <tbody>\n",
              "    <tr>\n",
              "      <th>0</th>\n",
              "      <td>0.177409</td>\n",
              "    </tr>\n",
              "    <tr>\n",
              "      <th>1</th>\n",
              "      <td>0.350622</td>\n",
              "    </tr>\n",
              "    <tr>\n",
              "      <th>2</th>\n",
              "      <td>0.343413</td>\n",
              "    </tr>\n",
              "  </tbody>\n",
              "</table>\n",
              "</div><br><label><b>dtype:</b> float64</label>"
            ]
          },
          "metadata": {},
          "execution_count": 8
        }
      ],
      "source": [
        "from sklearn.metrics import silhouette_samples, silhouette_score\n",
        "import numpy as np\n",
        "# 실루엣 계수 계산\n",
        "score_samples = silhouette_samples(wine_scaled, wineDF['cluster'])\n",
        "wineDF['silhouette_coeff'] = score_samples\n",
        "\n",
        "# 평균 실루엣 계수 계산\n",
        "average_score = silhouette_score(wine_scaled, wineDF['cluster'])\n",
        "print(f'와인 데이터 세트 Silhouette Analysis Score: {average_score:.3f}')\n",
        "\n",
        "# 클러스터별 평균 실루엣 계수 확인\n",
        "wineDF.groupby('cluster')['silhouette_coeff'].mean()"
      ]
    },
    {
      "cell_type": "markdown",
      "id": "d8880b2f-68eb-4e48-be7b-7da8b26c464c",
      "metadata": {
        "id": "d8880b2f-68eb-4e48-be7b-7da8b26c464c"
      },
      "source": [
        "* 여러개의 클러스터링 갯수를 List로 입력 받아 각각의 실루엣 계수를 면적으로 시각화한 함수 > 실행시키기"
      ]
    },
    {
      "cell_type": "code",
      "execution_count": null,
      "id": "70d8666c-017a-43c2-aa15-3df6ced1ca4b",
      "metadata": {
        "id": "70d8666c-017a-43c2-aa15-3df6ced1ca4b"
      },
      "outputs": [],
      "source": [
        "def visualize_silhouette(cluster_lists, X_features):\n",
        "    from sklearn.datasets import make_blobs\n",
        "    from sklearn.cluster import KMeans\n",
        "    from sklearn.metrics import silhouette_samples, silhouette_score\n",
        "\n",
        "    import matplotlib.pyplot as plt\n",
        "    import matplotlib.cm as cm\n",
        "    import math\n",
        "\n",
        "    # 입력값으로 클러스터링 갯수들을 리스트로 받아서, 각 갯수별로 클러스터링을 적용하고 실루엣 개수를 구함\n",
        "    n_cols = len(cluster_lists)\n",
        "\n",
        "    # plt.subplots()으로 리스트에 기재된 클러스터링 수만큼의 sub figures를 가지는 axs 생성\n",
        "    fig, axs = plt.subplots(figsize=(4*n_cols, 4), nrows=1, ncols=n_cols)\n",
        "\n",
        "    # 리스트에 기재된 클러스터링 갯수들을 차례로 iteration 수행하면서 실루엣 개수 시각화\n",
        "    for ind, n_cluster in enumerate(cluster_lists):\n",
        "\n",
        "        # KMeans 클러스터링 수행하고, 실루엣 스코어와 개별 데이터의 실루엣 값 계산.\n",
        "        clusterer = KMeans(n_clusters = n_cluster, max_iter=500, random_state=0)\n",
        "        cluster_labels = clusterer.fit_predict(X_features)\n",
        "\n",
        "        sil_avg = silhouette_score(X_features, cluster_labels)\n",
        "        sil_values = silhouette_samples(X_features, cluster_labels)\n",
        "\n",
        "        y_lower = 10\n",
        "        axs[ind].set_title('Number of Cluster : '+ str(n_cluster)+'\\n' \\\n",
        "                          'Silhouette Score :' + str(round(sil_avg,3)) )\n",
        "        axs[ind].set_xlabel(\"The silhouette coefficient values\")\n",
        "        axs[ind].set_ylabel(\"Cluster label\")\n",
        "        axs[ind].set_xlim([-0.1, 1])\n",
        "        axs[ind].set_ylim([0, len(X_features) + (n_cluster + 1) * 10])\n",
        "        axs[ind].set_yticks([])  # Clear the yaxis labels / ticks\n",
        "        axs[ind].set_xticks([0, 0.2, 0.4, 0.6, 0.8, 1])\n",
        "\n",
        "        # 클러스터링 갯수별로 fill_betweenx( )형태의 막대 그래프 표현.\n",
        "        for i in range(n_cluster):\n",
        "            ith_cluster_sil_values = sil_values[cluster_labels==i]\n",
        "            ith_cluster_sil_values.sort()\n",
        "\n",
        "            size_cluster_i = ith_cluster_sil_values.shape[0]\n",
        "            y_upper = y_lower + size_cluster_i\n",
        "\n",
        "            color = cm.nipy_spectral(float(i) / n_cluster)\n",
        "            axs[ind].fill_betweenx(np.arange(y_lower, y_upper), 0, ith_cluster_sil_values, \\\n",
        "                                facecolor=color, edgecolor=color, alpha=0.7)\n",
        "            axs[ind].text(-0.05, y_lower + 0.5 * size_cluster_i, str(i))\n",
        "            y_lower = y_upper + 10\n",
        "\n",
        "        axs[ind].axvline(x=sil_avg, color=\"red\", linestyle=\"--\")"
      ]
    },
    {
      "cell_type": "markdown",
      "id": "aaf7de3c-1de6-41c5-bfa7-b25b4aa4fa8f",
      "metadata": {
        "id": "aaf7de3c-1de6-41c5-bfa7-b25b4aa4fa8f"
      },
      "source": [
        "##**2-2. make_blobs() 함수로 데이터셋을 생성하고, 군집 개수에 따른 군집 실루엣 계수 평균값 시각화하기**"
      ]
    },
    {
      "cell_type": "markdown",
      "id": "cd1b3dcf-f243-4706-a909-d5aa60fbd079",
      "metadata": {
        "id": "cd1b3dcf-f243-4706-a909-d5aa60fbd079"
      },
      "source": [
        "파라미터 값 설정\n",
        "- 생성할 총 데이터의 개수 : 500개\n",
        "- 데이터 피처 개수 : 2개\n",
        "- 군집의 개수 : 4개\n",
        "- 생성도리 군집 데이터의 표준편차 : 1"
      ]
    },
    {
      "cell_type": "code",
      "execution_count": null,
      "id": "3849a5a9-08c9-4086-95fa-a9bafa45cdc7",
      "metadata": {
        "id": "3849a5a9-08c9-4086-95fa-a9bafa45cdc7",
        "colab": {
          "base_uri": "https://localhost:8080/",
          "height": 281
        },
        "outputId": "48dd927f-ab07-4801-bcbe-1ac3d4a44af5"
      },
      "outputs": [
        {
          "output_type": "display_data",
          "data": {
            "text/plain": [
              "<Figure size 1600x400 with 4 Axes>"
            ],
            "image/png": "[encoded data removed]"
          },
          "metadata": {}
        }
      ],
      "source": [
        "#make_blobs()를 통해 데이터 세트 생성\n",
        "from sklearn.datasets import make_blobs\n",
        "X,y = make_blobs(n_samples=500, n_features=2, centers=4, cluster_std=1.0,\n",
        "                center_box=(-10.0,10.0), shuffle=True, random_state=1)\n",
        "#군집 개수가 2개, 3개, 4개, 5개일 때 군집 실루엣 계수 평균값을 시각화\n",
        "visualize_silhouette([2,3,4,5],X)"
      ]
    },
    {
      "cell_type": "markdown",
      "id": "f7cbd6ca-95d8-4966-afc1-e3beb6005d4d",
      "metadata": {
        "id": "f7cbd6ca-95d8-4966-afc1-e3beb6005d4d"
      },
      "source": [
        "##**2-3. 여기서 왜 데이터 피처의 개수를 2개로 하였는가? 마크다운을 해제하고 정답을 입력하시오**"
      ]
    },
    {
      "cell_type": "markdown",
      "id": "ea9d9c8f-1551-4b14-b482-283f386de4c6",
      "metadata": {
        "id": "ea9d9c8f-1551-4b14-b482-283f386de4c6"
      },
      "source": [
        "정답 :일반적으로 군집화 결과를 시각화하기 위함,(2차원 데이터는 시각적으로 쉽게 표현할 수 있기 때문)"
      ]
    },
    {
      "cell_type": "markdown",
      "source": [
        "#**3. 평균이동(Mean Shift)**"
      ],
      "metadata": {
        "id": "dEEOSKuClfNS"
      },
      "id": "dEEOSKuClfNS"
    },
    {
      "cell_type": "markdown",
      "source": [
        "#**3-1. 다음 조건을 만족하도록 빈칸을 채우시오**\n",
        "- 데이터 생성\n",
        "  - make_bolbs()를 사용\n",
        "  - 데이터 생성 시 parameter 설정\n",
        "    - n_samples=300\n",
        "    - n_features=2\n",
        "    - centers=3\n",
        "    - cluster_std=0.7\n",
        "    - random_state=0\n",
        "  - 대역폭은 1로 설정"
      ],
      "metadata": {
        "id": "CEm3yS-ulpG5"
      },
      "id": "CEm3yS-ulpG5"
    },
    {
      "cell_type": "code",
      "source": [
        "import numpy as np\n",
        "from sklearn.datasets import make_blobs\n",
        "from sklearn.cluster import MeanShift\n",
        "\n",
        "X,y=make_blobs(n_samples=300, n_features=2, centers=3, cluster_std=0.7, random_state=0)\n",
        "\n",
        "meanshift=MeanShift()\n",
        "cluster_labels=meanshift.fit_predict(X)\n",
        "print('cluster labels 유형:', np.unique(cluster_labels))"
      ],
      "metadata": {
        "id": "ES0CaGKLluah",
        "colab": {
          "base_uri": "https://localhost:8080/"
        },
        "outputId": "a12efc97-b142-4b54-d261-c07b7dae599d"
      },
      "id": "ES0CaGKLluah",
      "execution_count": null,
      "outputs": [
        {
          "output_type": "stream",
          "name": "stdout",
          "text": [
            "cluster labels 유형: [0 1 2]\n"
          ]
        }
      ]
    },
    {
      "cell_type": "markdown",
      "source": [
        "#**3-2. 최적의 bandwidth를 찾는 함수를 이용해 최적화된 bandwidth값을 적용하시오**"
      ],
      "metadata": {
        "id": "7e8r3IHWlv5j"
      },
      "id": "7e8r3IHWlv5j"
    },
    {
      "cell_type": "code",
      "source": [
        "from sklearn.cluster import MeanShift\n",
        "import pandas as pd\n",
        "from sklearn.cluster import estimate_bandwidth\n",
        "\n",
        "best_bandwidth = estimate_bandwidth(X, quantile=0.2, n_samples=300)\n",
        "print('bandwidth 값:', round(best_bandwidth,3))\n",
        "\n",
        "clusterDF=pd.DataFrame(data=X,columns=['ftr1','ftr2'])\n",
        "clusterDF['target']=y\n",
        "\n",
        "meanshift=MeanShift(bandwidth=best_bandwidth)\n",
        "cluster_labels=meanshift.fit_predict(X)\n",
        "print('cluster labels 유형:',np.unique(cluster_labels))"
      ],
      "metadata": {
        "id": "GE1e7intlzZN",
        "colab": {
          "base_uri": "https://localhost:8080/"
        },
        "outputId": "47760114-c640-4e95-bc8a-faa93538dc86"
      },
      "id": "GE1e7intlzZN",
      "execution_count": 16,
      "outputs": [
        {
          "output_type": "stream",
          "name": "stdout",
          "text": [
            "bandwidth 값: 1.289\n",
            "cluster labels 유형: [0 1 2 3]\n"
          ]
        }
      ]
    },
    {
      "cell_type": "markdown",
      "source": [
        "\n",
        "##**3-3. '3-2'에서 군집화된 결과를 시각화하시오**"
      ],
      "metadata": {
        "id": "mOnB88eDl5wy"
      },
      "id": "mOnB88eDl5wy"
    },
    {
      "cell_type": "code",
      "source": [
        "import matplotlib.pyplot as plt\n",
        "%matplotlib inline\n",
        "\n",
        "clusterDF['meanshift_label']=cluster_labels\n",
        "centers= meanshift.cluster_centers_\n",
        "unique_labels= np.unique(cluster_labels)\n",
        "markers=['o','s','^','x','*']\n",
        "\n",
        "for label in unique_labels:\n",
        "  label_cluster=clusterDF[clusterDF['meanshift_label']==label]\n",
        "  center_x_y=centers[label]\n",
        "\n",
        "  #군집별로 다른 마커로 산점도 적용\n",
        "  plt.scatter(label_cluster['ftr1'], label_cluster['ftr2'], marker=markers[label], label=f'Cluster {label}')\n",
        "\n",
        "  #군집별 중심 표현\n",
        "  plt.scatter(x=center_x_y[0],y=center_x_y[1],s=200,color='gray',alpha=0.9,marker=markers[label])\n",
        "  plt.scatter(x=center_x_y[0],y=center_x_y[1],s=70,color='k',edgecolor='k',marker='$%d$'%label)\n",
        "\n",
        "plt.show()"
      ],
      "metadata": {
        "id": "G-nXGc-Ll_pz",
        "colab": {
          "base_uri": "https://localhost:8080/",
          "height": 435
        },
        "outputId": "c89ea921-8ba9-4c18-8941-4d78d8d2eba8"
      },
      "id": "G-nXGc-Ll_pz",
      "execution_count": 17,
      "outputs": [
        {
          "output_type": "display_data",
          "data": {
            "text/plain": [
              "<Figure size 640x480 with 1 Axes>"
            ],
            "image/png": "[encoded data removed]"
          },
          "metadata": {}
        }
      ]
    },
    {
      "cell_type": "markdown",
      "source": [
        "#**4. GMM(Gaussian Mixture Model)**"
      ],
      "metadata": {
        "id": "iBn_HIswmBa2"
      },
      "id": "iBn_HIswmBa2"
    },
    {
      "cell_type": "markdown",
      "source": [
        "##**4-1. 다음 문장의 빈칸을 채우시오**\n"
      ],
      "metadata": {
        "id": "SqDWDl7PmF4n"
      },
      "id": "SqDWDl7PmF4n"
    },
    {
      "cell_type": "markdown",
      "source": [
        "###**4-1-1. GMM은 군집 화를 적용하고자 하는 데이터가 여러개의 *##빈간##*를 가진 데이터 집합이 섞여서 생성된 것이라는 가정하에 군집화를 수행한다.**"
      ],
      "metadata": {
        "id": "QoLHqSL4mW5k"
      },
      "id": "QoLHqSL4mW5k"
    },
    {
      "cell_type": "markdown",
      "source": [
        "답:가우시안 분포"
      ],
      "metadata": {
        "id": "7qeSx95WmbXJ"
      },
      "id": "7qeSx95WmbXJ"
    },
    {
      "cell_type": "markdown",
      "source": [
        "###**4-1-2. GMM의 *##빈칸##*은 개별 정규 분포의 평균과 분산을 추정하고 각 데이터가 어떤 정규 분포에 해당되는지의 확률을 추정한다.**"
      ],
      "metadata": {
        "id": "7SnsiJbJmfH_"
      },
      "id": "7SnsiJbJmfH_"
    },
    {
      "cell_type": "markdown",
      "source": [
        "답: 파라미터"
      ],
      "metadata": {
        "id": "AC2TAnK1mnhG"
      },
      "id": "AC2TAnK1mnhG"
    },
    {
      "cell_type": "markdown",
      "source": [
        "##**4-1-3. *##빈칸##*은 데이터 세트가 원형의 범위를 가질 수록 유리하고, *##빈칸##*은 데이터가 분포된 방향에 따라 정확하게 군집화할 수 있다.**"
      ],
      "metadata": {
        "id": "252q6wbImpL4"
      },
      "id": "252q6wbImpL4"
    },
    {
      "cell_type": "markdown",
      "source": [
        "답:K-means / GMM"
      ],
      "metadata": {
        "id": "LNd6VUbVmtwd"
      },
      "id": "LNd6VUbVmtwd"
    },
    {
      "cell_type": "markdown",
      "source": [
        "##**4-2. n_components=3으로 하는 GMM 군집화를 실행하시오**"
      ],
      "metadata": {
        "id": "fWhspJImmvpa"
      },
      "id": "fWhspJImmvpa"
    },
    {
      "cell_type": "code",
      "source": [
        "#답 작성x 바로 실행\n",
        "def visualize_cluster_plot(clusterobj, dataframe, label_name, iscenter=True):\n",
        "    if iscenter :\n",
        "        centers = clusterobj.cluster_centers_\n",
        "\n",
        "    unique_labels = np.unique(dataframe[label_name].values)\n",
        "    markers=['o', 's', '^', 'x', '*']\n",
        "    isNoise=False\n",
        "\n",
        "    for label in unique_labels:\n",
        "        label_cluster = dataframe[dataframe[label_name]==label]\n",
        "        if label == -1:\n",
        "            cluster_legend = 'Noise'\n",
        "            isNoise=True\n",
        "        else :\n",
        "            cluster_legend = 'Cluster '+str(label)\n",
        "\n",
        "        plt.scatter(x=label_cluster['ftr1'], y=label_cluster['ftr2'], s=70,\\\n",
        "                    edgecolor='k', marker=markers[label], label=cluster_legend)\n",
        "\n",
        "        if iscenter:\n",
        "            center_x_y = centers[label]\n",
        "            plt.scatter(x=center_x_y[0], y=center_x_y[1], s=250, color='white',\n",
        "                        alpha=0.9, edgecolor='k', marker=markers[label])\n",
        "            plt.scatter(x=center_x_y[0], y=center_x_y[1], s=70, color='k',\\\n",
        "                        edgecolor='k', marker='$%d$' % label)\n",
        "    if isNoise:\n",
        "        legend_loc='upper center'\n",
        "    else: legend_loc='upper right'\n",
        "\n",
        "    plt.legend(loc=legend_loc)\n",
        "    plt.show()"
      ],
      "metadata": {
        "id": "2XInlH3Km1QR"
      },
      "id": "2XInlH3Km1QR",
      "execution_count": 18,
      "outputs": []
    },
    {
      "cell_type": "code",
      "source": [
        "#답 작성x 바로 실행\n",
        "from sklearn.datasets import make_blobs\n",
        "import numpy as np\n",
        "import pandas as pd\n",
        "import matplotlib.pyplot as plt\n",
        "\n",
        "#make_bolbs()로 300개의 데이터 세트, 3개의 군집 세트, cluster_std=0.5를 만듦\n",
        "X,y=make_blobs(n_samples=300,n_features=2,centers=3, cluster_std=0.5,random_state=0)\n",
        "\n",
        "#길게 늘어난 타원형의 데이터 세트를 생성하기 위해 변환\n",
        "transformation =[[0.60834549, -0.63667341], [-0.40887718, 0.85253229]]\n",
        "X_aniso = np.dot(X, transformation)\n",
        "#feature 데이터 세트와 make_bolbs()의 y결과값을 DataFrame으로 저장\n",
        "clusterDF = pd.DataFrame(data=X_aniso, columns=['ftr1', 'ftr2'])\n",
        "clusterDF['target']=y\n",
        "#생성된 데이터 세트를 target별로 다른 마커로 표시해 시각화함\n",
        "visualize_cluster_plot(None,clusterDF,'target',iscenter=False)"
      ],
      "metadata": {
        "id": "1OPjKQZvm3PC",
        "colab": {
          "base_uri": "https://localhost:8080/",
          "height": 430
        },
        "outputId": "314e4070-aeec-4d61-ca13-4c0e57f2f5a8"
      },
      "id": "1OPjKQZvm3PC",
      "execution_count": 19,
      "outputs": [
        {
          "output_type": "display_data",
          "data": {
            "text/plain": [
              "<Figure size 640x480 with 1 Axes>"
            ],
            "image/png": "[encoded data removed]"
          },
          "metadata": {}
        }
      ]
    },
    {
      "cell_type": "code",
      "source": [
        "from sklearn.mixture import GaussianMixture\n",
        "\n",
        "gmm = GaussianMixture(n_components=3, random_state=0)\n",
        "gmm_label = gmm.fit(X_aniso).predict(X_aniso)\n",
        "clusterDF['gmm_label'] = gmm_label\n",
        "\n",
        "visualize_cluster_plot(gmm, clusterDF, 'gmm_label',iscenter=False)"
      ],
      "metadata": {
        "id": "HHIjpA_Jm9hf",
        "colab": {
          "base_uri": "https://localhost:8080/",
          "height": 430
        },
        "outputId": "2fdeb85d-d0be-4199-c9e9-a8bb7ffc5129"
      },
      "id": "HHIjpA_Jm9hf",
      "execution_count": 20,
      "outputs": [
        {
          "output_type": "display_data",
          "data": {
            "text/plain": [
              "<Figure size 640x480 with 1 Axes>"
            ],
            "image/png": "[encoded data removed]"
          },
          "metadata": {}
        }
      ]
    },
    {
      "cell_type": "markdown",
      "source": [
        "#**5. DBSCAN**"
      ],
      "metadata": {
        "id": "zDDK7Bz0m_DZ"
      },
      "id": "zDDK7Bz0m_DZ"
    },
    {
      "cell_type": "markdown",
      "source": [
        "##**5-1. DBSCAN의 중요 parameter 두개는 무엇인가?**\n",
        "\n"
      ],
      "metadata": {
        "id": "H0646UJfnEUs"
      },
      "id": "H0646UJfnEUs"
    },
    {
      "cell_type": "markdown",
      "source": [
        "답:eps, min_samples\n"
      ],
      "metadata": {
        "id": "jRn_VecvnQM3"
      },
      "id": "jRn_VecvnQM3"
    },
    {
      "cell_type": "markdown",
      "source": [
        "##**5-2. DBSCAN에서 데이터 포인트 종류 네개는 무엇인가?**"
      ],
      "metadata": {
        "id": "j8LQvZt9nTQu"
      },
      "id": "j8LQvZt9nTQu"
    },
    {
      "cell_type": "markdown",
      "source": [
        "답:core point, border point, noise point, outlier point"
      ],
      "metadata": {
        "id": "zmeAaCyGnanC"
      },
      "id": "zmeAaCyGnanC"
    },
    {
      "cell_type": "markdown",
      "source": [
        "##**5-3. DBSCAN을 수행하는 코드를 완성하시오(eps=0.2, min_samples=8)**"
      ],
      "metadata": {
        "id": "HlJFuy1fndGD"
      },
      "id": "HlJFuy1fndGD"
    },
    {
      "cell_type": "code",
      "source": [
        "#답 작성x 바로 실행\n",
        "def visualize_cluster_plot(clusterobj, dataframe, label_name, iscenter=True):\n",
        "    if iscenter :\n",
        "        centers = clusterobj.cluster_centers_\n",
        "\n",
        "    unique_labels = np.unique(dataframe[label_name].values)\n",
        "    markers=['o', 's', '^', 'x', '*']\n",
        "    isNoise=False\n",
        "\n",
        "    for label in unique_labels:\n",
        "        label_cluster = dataframe[dataframe[label_name]==label]\n",
        "        if label == -1:\n",
        "            cluster_legend = 'Noise'\n",
        "            isNoise=True\n",
        "        else :\n",
        "            cluster_legend = 'Cluster '+str(label)\n",
        "\n",
        "        plt.scatter(x=label_cluster['ftr1'], y=label_cluster['ftr2'], s=70,\\\n",
        "                    edgecolor='k', marker=markers[label], label=cluster_legend)\n",
        "\n",
        "        if iscenter:\n",
        "            center_x_y = centers[label]\n",
        "            plt.scatter(x=center_x_y[0], y=center_x_y[1], s=250, color='white',\n",
        "                        alpha=0.9, edgecolor='k', marker=markers[label])\n",
        "            plt.scatter(x=center_x_y[0], y=center_x_y[1], s=70, color='k',\\\n",
        "                        edgecolor='k', marker='$%d$' % label)\n",
        "    if isNoise:\n",
        "        legend_loc='upper center'\n",
        "    else: legend_loc='upper right'\n",
        "\n",
        "    plt.legend(loc=legend_loc)\n",
        "    plt.show()"
      ],
      "metadata": {
        "id": "N-fqpBzxnniW"
      },
      "id": "N-fqpBzxnniW",
      "execution_count": 21,
      "outputs": []
    },
    {
      "cell_type": "code",
      "source": [
        "#답 작성x 바로 실행\n",
        "from sklearn.datasets import make_circles\n",
        "\n",
        "X,y=make_circles(n_samples=1000,shuffle=True,noise=0.05,random_state=0,factor=0.5)\n",
        "clusterDF=pd.DataFrame(data=X,columns=['ftr1','ftr2'])\n",
        "clusterDF['target']=y\n",
        "\n",
        "visualize_cluster_plot(None,clusterDF,'target',iscenter=False)"
      ],
      "metadata": {
        "id": "AqNlW0sznrPa",
        "colab": {
          "base_uri": "https://localhost:8080/",
          "height": 430
        },
        "outputId": "49a4f202-6879-4df2-cb7e-43cccba3a049"
      },
      "id": "AqNlW0sznrPa",
      "execution_count": 22,
      "outputs": [
        {
          "output_type": "display_data",
          "data": {
            "text/plain": [
              "<Figure size 640x480 with 1 Axes>"
            ],
            "image/png": "[encoded data removed]"
          },
          "metadata": {}
        }
      ]
    },
    {
      "cell_type": "code",
      "source": [
        "# DBSCAN으로 make_circles( ) 데이터 셋을 클러스터링 수행.\n",
        "from sklearn.cluster import DBSCAN\n",
        "\n",
        "dbscan = DBSCAN(eps=0.2, min_samples=8,metric='euclidean')\n",
        "dbscan_labels = dbscan.fit_predict(X)\n",
        "clusterDF['dbscan_cluster'] = dbscan_labels\n",
        "\n",
        "visualize_cluster_plot(dbscan, clusterDF, 'dbscan_cluster', iscenter=False)"
      ],
      "metadata": {
        "id": "7KWQevm1nun-",
        "colab": {
          "base_uri": "https://localhost:8080/",
          "height": 430
        },
        "outputId": "8aff8c43-15d5-4992-d1d6-28df66d94c14"
      },
      "id": "7KWQevm1nun-",
      "execution_count": 23,
      "outputs": [
        {
          "output_type": "display_data",
          "data": {
            "text/plain": [
              "<Figure size 640x480 with 1 Axes>"
            ],
            "image/png": "[encoded data removed]"
          },
          "metadata": {}
        }
      ]
    },
    {
      "cell_type": "markdown",
      "source": [
        "#**6. 군집화 실습 - 고객 세그먼테이션**"
      ],
      "metadata": {
        "id": "FjuTVsONn5IH"
      },
      "id": "FjuTVsONn5IH"
    },
    {
      "cell_type": "markdown",
      "source": [
        "#**RFM 기법에 따라 고객 세그먼테이션을 수행할 것입니다. 아래의 빈칸을 채우세요.**\n",
        "- 데이터 셋 다운로드 링크 : https://archive.ics.uci.edu/dataset/352/online+retail"
      ],
      "metadata": {
        "id": "GJ27RYCLn6W1"
      },
      "id": "GJ27RYCLn6W1"
    },
    {
      "cell_type": "code",
      "source": [
        "# 파일 경로 지정 후, 아래 코드를 실행해주세요.\n",
        "import pandas as pd\n",
        "import datetime\n",
        "import math\n",
        "import numpy as np\n",
        "import matplotlib.pyplot as plt\n",
        "%matplotlib inline\n",
        "\n",
        "retail_df = pd.read_excel('/content/Online Retail.xlsx')"
      ],
      "metadata": {
        "id": "mi5zEhtNn7ud"
      },
      "id": "mi5zEhtNn7ud",
      "execution_count": 27,
      "outputs": []
    },
    {
      "cell_type": "markdown",
      "source": [
        "##**6-1. 현재는 CustomerID에 Null데이터가 많습니다. 불린 인덱싱을 적용하여 필터링해주세요.**"
      ],
      "metadata": {
        "id": "3gLKwIJqn9Gd"
      },
      "id": "3gLKwIJqn9Gd"
    },
    {
      "cell_type": "code",
      "source": [
        "# 빈칸을 완성해주세요.\n",
        "retail_df = retail_df[retail_df['Quantity'] > 0]\n",
        "retail_df = retail_df[retail_df['UnitPrice'] > 0]\n",
        "retail_df = retail_df[retail_df['CustomerID'].notnull()]\n",
        "retail_df = retail_df[retail_df['Country']=='United Kingdom']\n"
      ],
      "metadata": {
        "id": "JYUrmnB6n_ln"
      },
      "id": "JYUrmnB6n_ln",
      "execution_count": 29,
      "outputs": []
    },
    {
      "cell_type": "markdown",
      "source": [
        "##**6-2. DataFrame에 groupby를 호출해 반환된 DataFrameGroupby 객체에 agg()를 이용하려 합니다. 다음 빈칸을 채워주세요.**\n",
        "- Recency는 InvoiceDate 칼럼의 max()에서 데이터 가공\n",
        "- Frequency는 InvoiceNO 칼럼의 count()에서 데이터 가공\n",
        "- Monetary는 sale_amount 칼럼의 sum()에서 데이터 가공\n",
        "\n"
      ],
      "metadata": {
        "id": "75P3oR4aoBMR"
      },
      "id": "75P3oR4aoBMR"
    },
    {
      "cell_type": "code",
      "source": [
        "# 빈칸을 완성해주세요.\n",
        "\n",
        "retail_df['sale_amount'] = retail_df['Quantity'] * retail_df['UnitPrice']\n",
        "retail_df['CustomerID'] = retail_df['CustomerID'].astype(int)\n",
        "\n",
        "aggregations = {\n",
        "    'InvoiceDate': 'max',\n",
        "    'InvoiceNo': 'count',\n",
        "    'sale_amount':'sum'\n",
        "}\n",
        "\n",
        "cust_df = retail_df.groupby('CustomerID').agg(aggregations)\n",
        "cust_df = cust_df.rename(columns = {'InvoiceDate': 'Recency',\n",
        "                                    'InvoiceNo': 'Frequency',\n",
        "                                    'sale_amount': 'Monetary'\n",
        "                                    }\n",
        "                        )\n",
        "cust_df = cust_df.reset_index()\n",
        "cust_df.head(3)"
      ],
      "metadata": {
        "id": "BOy7nwKmoETF",
        "colab": {
          "base_uri": "https://localhost:8080/",
          "height": 143
        },
        "outputId": "cd63d548-fba5-436a-edda-b7f45607467c"
      },
      "id": "BOy7nwKmoETF",
      "execution_count": 30,
      "outputs": [
        {
          "output_type": "execute_result",
          "data": {
            "text/plain": [
              "   CustomerID             Recency  Frequency  Monetary\n",
              "0       12346 2011-01-18 10:01:00          1  77183.60\n",
              "1       12747 2011-12-07 14:34:00        103   4196.01\n",
              "2       12748 2011-12-09 12:20:00       4595  33719.73"
            ],
            "text/html": [
              "\n",
              "  <div id=\"df-a15e0aea-45ef-4b72-96db-09cf8ee69996\" class=\"colab-df-container\">\n",
              "    <div>\n",
              "<style scoped>\n",
              "    .dataframe tbody tr th:only-of-type {\n",
              "        vertical-align: middle;\n",
              "    }\n",
              "\n",
              "    .dataframe tbody tr th {\n",
              "        vertical-align: top;\n",
              "    }\n",
              "\n",
              "    .dataframe thead th {\n",
              "        text-align: right;\n",
              "    }\n",
              "</style>\n",
              "<table border=\"1\" class=\"dataframe\">\n",
              "  <thead>\n",
              "    <tr style=\"text-align: right;\">\n",
              "      <th></th>\n",
              "      <th>CustomerID</th>\n",
              "      <th>Recency</th>\n",
              "      <th>Frequency</th>\n",
              "      <th>Monetary</th>\n",
              "    </tr>\n",
              "  </thead>\n",
              "  <tbody>\n",
              "    <tr>\n",
              "      <th>0</th>\n",
              "      <td>12346</td>\n",
              "      <td>2011-01-18 10:01:00</td>\n",
              "      <td>1</td>\n",
              "      <td>77183.60</td>\n",
              "    </tr>\n",
              "    <tr>\n",
              "      <th>1</th>\n",
              "      <td>12747</td>\n",
              "      <td>2011-12-07 14:34:00</td>\n",
              "      <td>103</td>\n",
              "      <td>4196.01</td>\n",
              "    </tr>\n",
              "    <tr>\n",
              "      <th>2</th>\n",
              "      <td>12748</td>\n",
              "      <td>2011-12-09 12:20:00</td>\n",
              "      <td>4595</td>\n",
              "      <td>33719.73</td>\n",
              "    </tr>\n",
              "  </tbody>\n",
              "</table>\n",
              "</div>\n",
              "    <div class=\"colab-df-buttons\">\n",
              "\n",
              "  <div class=\"colab-df-container\">\n",
              "    <button class=\"colab-df-convert\" onclick=\"convertToInteractive('df-a15e0aea-45ef-4b72-96db-09cf8ee69996')\"\n",
              "            title=\"Convert this dataframe to an interactive table.\"\n",
              "            style=\"display:none;\">\n",
              "\n",
              "  <svg xmlns=\"http://www.w3.org/2000/svg\" height=\"24px\" viewBox=\"0 -960 960 960\">\n",
              "    <path d=\"M120-120v-720h720v720H120Zm60-500h600v-160H180v160Zm220 220h160v-160H400v160Zm0 220h160v-160H400v160ZM180-400h160v-160H180v160Zm440 0h160v-160H620v160ZM180-180h160v-160H180v160Zm440 0h160v-160H620v160Z\"/>\n",
              "  </svg>\n",
              "    </button>\n",
              "\n",
              "  <style>\n",
              "    .colab-df-container {\n",
              "      display:flex;\n",
              "      gap: 12px;\n",
              "    }\n",
              "\n",
              "    .colab-df-convert {\n",
              "      background-color: #E8F0FE;\n",
              "      border: none;\n",
              "      border-radius: 50%;\n",
              "      cursor: pointer;\n",
              "      display: none;\n",
              "      fill: #1967D2;\n",
              "      height: 32px;\n",
              "      padding: 0 0 0 0;\n",
              "      width: 32px;\n",
              "    }\n",
              "\n",
              "    .colab-df-convert:hover {\n",
              "      background-color: #E2EBFA;\n",
              "      box-shadow: 0px 1px 2px rgba(60, 64, 67, 0.3), 0px 1px 3px 1px rgba(60, 64, 67, 0.15);\n",
              "      fill: #174EA6;\n",
              "    }\n",
              "\n",
              "    .colab-df-buttons div {\n",
              "      margin-bottom: 4px;\n",
              "    }\n",
              "\n",
              "    [theme=dark] .colab-df-convert {\n",
              "      background-color: #3B4455;\n",
              "      fill: #D2E3FC;\n",
              "    }\n",
              "\n",
              "    [theme=dark] .colab-df-convert:hover {\n",
              "      background-color: #434B5C;\n",
              "      box-shadow: 0px 1px 3px 1px rgba(0, 0, 0, 0.15);\n",
              "      filter: drop-shadow(0px 1px 2px rgba(0, 0, 0, 0.3));\n",
              "      fill: #FFFFFF;\n",
              "    }\n",
              "  </style>\n",
              "\n",
              "    <script>\n",
              "      const buttonEl =\n",
              "        document.querySelector('#df-a15e0aea-45ef-4b72-96db-09cf8ee69996 button.colab-df-convert');\n",
              "      buttonEl.style.display =\n",
              "        google.colab.kernel.accessAllowed ? 'block' : 'none';\n",
              "\n",
              "      async function convertToInteractive(key) {\n",
              "        const element = document.querySelector('#df-a15e0aea-45ef-4b72-96db-09cf8ee69996');\n",
              "        const dataTable =\n",
              "          await google.colab.kernel.invokeFunction('convertToInteractive',\n",
              "                                                    [key], {});\n",
              "        if (!dataTable) return;\n",
              "\n",
              "        const docLinkHtml = 'Like what you see? Visit the ' +\n",
              "          '<a target=\"_blank\" href=https://colab.research.google.com/notebooks/data_table.ipynb>data table notebook</a>'\n",
              "          + ' to learn more about interactive tables.';\n",
              "        element.innerHTML = '';\n",
              "        dataTable['output_type'] = 'display_data';\n",
              "        await google.colab.output.renderOutput(dataTable, element);\n",
              "        const docLink = document.createElement('div');\n",
              "        docLink.innerHTML = docLinkHtml;\n",
              "        element.appendChild(docLink);\n",
              "      }\n",
              "    </script>\n",
              "  </div>\n",
              "\n",
              "\n",
              "<div id=\"df-32a790b7-517b-4e1e-982e-8571151d7dd4\">\n",
              "  <button class=\"colab-df-quickchart\" onclick=\"quickchart('df-32a790b7-517b-4e1e-982e-8571151d7dd4')\"\n",
              "            title=\"Suggest charts\"\n",
              "            style=\"display:none;\">\n",
              "\n",
              "<svg xmlns=\"http://www.w3.org/2000/svg\" height=\"24px\"viewBox=\"0 0 24 24\"\n",
              "     width=\"24px\">\n",
              "    <g>\n",
              "        <path d=\"M19 3H5c-1.1 0-2 .9-2 2v14c0 1.1.9 2 2 2h14c1.1 0 2-.9 2-2V5c0-1.1-.9-2-2-2zM9 17H7v-7h2v7zm4 0h-2V7h2v10zm4 0h-2v-4h2v4z\"/>\n",
              "    </g>\n",
              "</svg>\n",
              "  </button>\n",
              "\n",
              "<style>\n",
              "  .colab-df-quickchart {\n",
              "      --bg-color: #E8F0FE;\n",
              "      --fill-color: #1967D2;\n",
              "      --hover-bg-color: #E2EBFA;\n",
              "      --hover-fill-color: #174EA6;\n",
              "      --disabled-fill-color: #AAA;\n",
              "      --disabled-bg-color: #DDD;\n",
              "  }\n",
              "\n",
              "  [theme=dark] .colab-df-quickchart {\n",
              "      --bg-color: #3B4455;\n",
              "      --fill-color: #D2E3FC;\n",
              "      --hover-bg-color: #434B5C;\n",
              "      --hover-fill-color: #FFFFFF;\n",
              "      --disabled-bg-color: #3B4455;\n",
              "      --disabled-fill-color: #666;\n",
              "  }\n",
              "\n",
              "  .colab-df-quickchart {\n",
              "    background-color: var(--bg-color);\n",
              "    border: none;\n",
              "    border-radius: 50%;\n",
              "    cursor: pointer;\n",
              "    display: none;\n",
              "    fill: var(--fill-color);\n",
              "    height: 32px;\n",
              "    padding: 0;\n",
              "    width: 32px;\n",
              "  }\n",
              "\n",
              "  .colab-df-quickchart:hover {\n",
              "    background-color: var(--hover-bg-color);\n",
              "    box-shadow: 0 1px 2px rgba(60, 64, 67, 0.3), 0 1px 3px 1px rgba(60, 64, 67, 0.15);\n",
              "    fill: var(--button-hover-fill-color);\n",
              "  }\n",
              "\n",
              "  .colab-df-quickchart-complete:disabled,\n",
              "  .colab-df-quickchart-complete:disabled:hover {\n",
              "    background-color: var(--disabled-bg-color);\n",
              "    fill: var(--disabled-fill-color);\n",
              "    box-shadow: none;\n",
              "  }\n",
              "\n",
              "  .colab-df-spinner {\n",
              "    border: 2px solid var(--fill-color);\n",
              "    border-color: transparent;\n",
              "    border-bottom-color: var(--fill-color);\n",
              "    animation:\n",
              "      spin 1s steps(1) infinite;\n",
              "  }\n",
              "\n",
              "  @keyframes spin {\n",
              "    0% {\n",
              "      border-color: transparent;\n",
              "      border-bottom-color: var(--fill-color);\n",
              "      border-left-color: var(--fill-color);\n",
              "    }\n",
              "    20% {\n",
              "      border-color: transparent;\n",
              "      border-left-color: var(--fill-color);\n",
              "      border-top-color: var(--fill-color);\n",
              "    }\n",
              "    30% {\n",
              "      border-color: transparent;\n",
              "      border-left-color: var(--fill-color);\n",
              "      border-top-color: var(--fill-color);\n",
              "      border-right-color: var(--fill-color);\n",
              "    }\n",
              "    40% {\n",
              "      border-color: transparent;\n",
              "      border-right-color: var(--fill-color);\n",
              "      border-top-color: var(--fill-color);\n",
              "    }\n",
              "    60% {\n",
              "      border-color: transparent;\n",
              "      border-right-color: var(--fill-color);\n",
              "    }\n",
              "    80% {\n",
              "      border-color: transparent;\n",
              "      border-right-color: var(--fill-color);\n",
              "      border-bottom-color: var(--fill-color);\n",
              "    }\n",
              "    90% {\n",
              "      border-color: transparent;\n",
              "      border-bottom-color: var(--fill-color);\n",
              "    }\n",
              "  }\n",
              "</style>\n",
              "\n",
              "  <script>\n",
              "    async function quickchart(key) {\n",
              "      const quickchartButtonEl =\n",
              "        document.querySelector('#' + key + ' button');\n",
              "      quickchartButtonEl.disabled = true;  // To prevent multiple clicks.\n",
              "      quickchartButtonEl.classList.add('colab-df-spinner');\n",
              "      try {\n",
              "        const charts = await google.colab.kernel.invokeFunction(\n",
              "            'suggestCharts', [key], {});\n",
              "      } catch (error) {\n",
              "        console.error('Error during call to suggestCharts:', error);\n",
              "      }\n",
              "      quickchartButtonEl.classList.remove('colab-df-spinner');\n",
              "      quickchartButtonEl.classList.add('colab-df-quickchart-complete');\n",
              "    }\n",
              "    (() => {\n",
              "      let quickchartButtonEl =\n",
              "        document.querySelector('#df-32a790b7-517b-4e1e-982e-8571151d7dd4 button');\n",
              "      quickchartButtonEl.style.display =\n",
              "        google.colab.kernel.accessAllowed ? 'block' : 'none';\n",
              "    })();\n",
              "  </script>\n",
              "</div>\n",
              "\n",
              "    </div>\n",
              "  </div>\n"
            ],
            "application/vnd.google.colaboratory.intrinsic+json": {
              "type": "dataframe",
              "variable_name": "cust_df",
              "summary": "{\n  \"name\": \"cust_df\",\n  \"rows\": 3920,\n  \"fields\": [\n    {\n      \"column\": \"CustomerID\",\n      \"properties\": {\n        \"dtype\": \"number\",\n        \"std\": 1576,\n        \"min\": 12346,\n        \"max\": 18287,\n        \"num_unique_values\": 3920,\n        \"samples\": [\n          13956,\n          14520,\n          17446\n        ],\n        \"semantic_type\": \"\",\n        \"description\": \"\"\n      }\n    },\n    {\n      \"column\": \"Recency\",\n      \"properties\": {\n        \"dtype\": \"date\",\n        \"min\": \"2010-12-01 09:53:00\",\n        \"max\": \"2011-12-09 12:49:00\",\n        \"num_unique_values\": 3800,\n        \"samples\": [\n          \"2011-04-19 11:46:00\",\n          \"2011-08-17 14:25:00\",\n          \"2011-10-12 15:01:00\"\n        ],\n        \"semantic_type\": \"\",\n        \"description\": \"\"\n      }\n    },\n    {\n      \"column\": \"Frequency\",\n      \"properties\": {\n        \"dtype\": \"number\",\n        \"std\": 217,\n        \"min\": 1,\n        \"max\": 7847,\n        \"num_unique_values\": 442,\n        \"samples\": [\n          421,\n          139,\n          305\n        ],\n        \"semantic_type\": \"\",\n        \"description\": \"\"\n      }\n    },\n    {\n      \"column\": \"Monetary\",\n      \"properties\": {\n        \"dtype\": \"number\",\n        \"std\": 7482.817476870338,\n        \"min\": 3.75,\n        \"max\": 259657.3,\n        \"num_unique_values\": 3846,\n        \"samples\": [\n          1173.12,\n          166.42,\n          244.8\n        ],\n        \"semantic_type\": \"\",\n        \"description\": \"\"\n      }\n    }\n  ]\n}"
            }
          },
          "metadata": {},
          "execution_count": 30
        }
      ]
    },
    {
      "cell_type": "markdown",
      "source": [
        "##**6-3. Recency 칼럼은 데이터 값의 특성으로 인해 데이터 가공이 추가로 필요합니다. 빈칸을 완성해주세요.**\n",
        "- 온라인 판매 데이터는 2010년 12월 1일에서 2011년 12월 9일까지의 데이터 입니다.\n",
        "- 오늘 날짜는 2011년 12월 10일로 가정합니다."
      ],
      "metadata": {
        "id": "ZZYDZAZaoGFz"
      },
      "id": "ZZYDZAZaoGFz"
    },
    {
      "cell_type": "code",
      "source": [
        "# 빈칸을 완성해주세요.\n",
        "import datetime as dt\n",
        "\n",
        "# 오늘 날짜 설정\n",
        "today_date = dt.datetime(2011, 12, 10)\n",
        "\n",
        "cust_df['Recency'] = today_date- cust_df['Recency']\n",
        "cust_df['Recency'] = cust_df['Recency'].apply(lambda x: x.days)\n",
        "print('cust_df 로우와 칼럼 건수는 ',cust_df.shape)\n",
        "cust_df.head(3)"
      ],
      "metadata": {
        "id": "D6jpQZiYoI7p",
        "colab": {
          "base_uri": "https://localhost:8080/",
          "height": 161
        },
        "outputId": "89453adf-6cfb-48e3-c3fb-e3ac29b3364f"
      },
      "id": "D6jpQZiYoI7p",
      "execution_count": 33,
      "outputs": [
        {
          "output_type": "stream",
          "name": "stdout",
          "text": [
            "cust_df 로우와 칼럼 건수는  (3920, 4)\n"
          ]
        },
        {
          "output_type": "execute_result",
          "data": {
            "text/plain": [
              "   CustomerID  Recency  Frequency  Monetary\n",
              "0       12346      325          1  77183.60\n",
              "1       12747        2        103   4196.01\n",
              "2       12748        0       4595  33719.73"
            ],
            "text/html": [
              "\n",
              "  <div id=\"df-36e27057-51e1-490e-a545-ba18aee62957\" class=\"colab-df-container\">\n",
              "    <div>\n",
              "<style scoped>\n",
              "    .dataframe tbody tr th:only-of-type {\n",
              "        vertical-align: middle;\n",
              "    }\n",
              "\n",
              "    .dataframe tbody tr th {\n",
              "        vertical-align: top;\n",
              "    }\n",
              "\n",
              "    .dataframe thead th {\n",
              "        text-align: right;\n",
              "    }\n",
              "</style>\n",
              "<table border=\"1\" class=\"dataframe\">\n",
              "  <thead>\n",
              "    <tr style=\"text-align: right;\">\n",
              "      <th></th>\n",
              "      <th>CustomerID</th>\n",
              "      <th>Recency</th>\n",
              "      <th>Frequency</th>\n",
              "      <th>Monetary</th>\n",
              "    </tr>\n",
              "  </thead>\n",
              "  <tbody>\n",
              "    <tr>\n",
              "      <th>0</th>\n",
              "      <td>12346</td>\n",
              "      <td>325</td>\n",
              "      <td>1</td>\n",
              "      <td>77183.60</td>\n",
              "    </tr>\n",
              "    <tr>\n",
              "      <th>1</th>\n",
              "      <td>12747</td>\n",
              "      <td>2</td>\n",
              "      <td>103</td>\n",
              "      <td>4196.01</td>\n",
              "    </tr>\n",
              "    <tr>\n",
              "      <th>2</th>\n",
              "      <td>12748</td>\n",
              "      <td>0</td>\n",
              "      <td>4595</td>\n",
              "      <td>33719.73</td>\n",
              "    </tr>\n",
              "  </tbody>\n",
              "</table>\n",
              "</div>\n",
              "    <div class=\"colab-df-buttons\">\n",
              "\n",
              "  <div class=\"colab-df-container\">\n",
              "    <button class=\"colab-df-convert\" onclick=\"convertToInteractive('df-36e27057-51e1-490e-a545-ba18aee62957')\"\n",
              "            title=\"Convert this dataframe to an interactive table.\"\n",
              "            style=\"display:none;\">\n",
              "\n",
              "  <svg xmlns=\"http://www.w3.org/2000/svg\" height=\"24px\" viewBox=\"0 -960 960 960\">\n",
              "    <path d=\"M120-120v-720h720v720H120Zm60-500h600v-160H180v160Zm220 220h160v-160H400v160Zm0 220h160v-160H400v160ZM180-400h160v-160H180v160Zm440 0h160v-160H620v160ZM180-180h160v-160H180v160Zm440 0h160v-160H620v160Z\"/>\n",
              "  </svg>\n",
              "    </button>\n",
              "\n",
              "  <style>\n",
              "    .colab-df-container {\n",
              "      display:flex;\n",
              "      gap: 12px;\n",
              "    }\n",
              "\n",
              "    .colab-df-convert {\n",
              "      background-color: #E8F0FE;\n",
              "      border: none;\n",
              "      border-radius: 50%;\n",
              "      cursor: pointer;\n",
              "      display: none;\n",
              "      fill: #1967D2;\n",
              "      height: 32px;\n",
              "      padding: 0 0 0 0;\n",
              "      width: 32px;\n",
              "    }\n",
              "\n",
              "    .colab-df-convert:hover {\n",
              "      background-color: #E2EBFA;\n",
              "      box-shadow: 0px 1px 2px rgba(60, 64, 67, 0.3), 0px 1px 3px 1px rgba(60, 64, 67, 0.15);\n",
              "      fill: #174EA6;\n",
              "    }\n",
              "\n",
              "    .colab-df-buttons div {\n",
              "      margin-bottom: 4px;\n",
              "    }\n",
              "\n",
              "    [theme=dark] .colab-df-convert {\n",
              "      background-color: #3B4455;\n",
              "      fill: #D2E3FC;\n",
              "    }\n",
              "\n",
              "    [theme=dark] .colab-df-convert:hover {\n",
              "      background-color: #434B5C;\n",
              "      box-shadow: 0px 1px 3px 1px rgba(0, 0, 0, 0.15);\n",
              "      filter: drop-shadow(0px 1px 2px rgba(0, 0, 0, 0.3));\n",
              "      fill: #FFFFFF;\n",
              "    }\n",
              "  </style>\n",
              "\n",
              "    <script>\n",
              "      const buttonEl =\n",
              "        document.querySelector('#df-36e27057-51e1-490e-a545-ba18aee62957 button.colab-df-convert');\n",
              "      buttonEl.style.display =\n",
              "        google.colab.kernel.accessAllowed ? 'block' : 'none';\n",
              "\n",
              "      async function convertToInteractive(key) {\n",
              "        const element = document.querySelector('#df-36e27057-51e1-490e-a545-ba18aee62957');\n",
              "        const dataTable =\n",
              "          await google.colab.kernel.invokeFunction('convertToInteractive',\n",
              "                                                    [key], {});\n",
              "        if (!dataTable) return;\n",
              "\n",
              "        const docLinkHtml = 'Like what you see? Visit the ' +\n",
              "          '<a target=\"_blank\" href=https://colab.research.google.com/notebooks/data_table.ipynb>data table notebook</a>'\n",
              "          + ' to learn more about interactive tables.';\n",
              "        element.innerHTML = '';\n",
              "        dataTable['output_type'] = 'display_data';\n",
              "        await google.colab.output.renderOutput(dataTable, element);\n",
              "        const docLink = document.createElement('div');\n",
              "        docLink.innerHTML = docLinkHtml;\n",
              "        element.appendChild(docLink);\n",
              "      }\n",
              "    </script>\n",
              "  </div>\n",
              "\n",
              "\n",
              "<div id=\"df-c828a477-2d16-4a2e-b55a-574b359cdc22\">\n",
              "  <button class=\"colab-df-quickchart\" onclick=\"quickchart('df-c828a477-2d16-4a2e-b55a-574b359cdc22')\"\n",
              "            title=\"Suggest charts\"\n",
              "            style=\"display:none;\">\n",
              "\n",
              "<svg xmlns=\"http://www.w3.org/2000/svg\" height=\"24px\"viewBox=\"0 0 24 24\"\n",
              "     width=\"24px\">\n",
              "    <g>\n",
              "        <path d=\"M19 3H5c-1.1 0-2 .9-2 2v14c0 1.1.9 2 2 2h14c1.1 0 2-.9 2-2V5c0-1.1-.9-2-2-2zM9 17H7v-7h2v7zm4 0h-2V7h2v10zm4 0h-2v-4h2v4z\"/>\n",
              "    </g>\n",
              "</svg>\n",
              "  </button>\n",
              "\n",
              "<style>\n",
              "  .colab-df-quickchart {\n",
              "      --bg-color: #E8F0FE;\n",
              "      --fill-color: #1967D2;\n",
              "      --hover-bg-color: #E2EBFA;\n",
              "      --hover-fill-color: #174EA6;\n",
              "      --disabled-fill-color: #AAA;\n",
              "      --disabled-bg-color: #DDD;\n",
              "  }\n",
              "\n",
              "  [theme=dark] .colab-df-quickchart {\n",
              "      --bg-color: #3B4455;\n",
              "      --fill-color: #D2E3FC;\n",
              "      --hover-bg-color: #434B5C;\n",
              "      --hover-fill-color: #FFFFFF;\n",
              "      --disabled-bg-color: #3B4455;\n",
              "      --disabled-fill-color: #666;\n",
              "  }\n",
              "\n",
              "  .colab-df-quickchart {\n",
              "    background-color: var(--bg-color);\n",
              "    border: none;\n",
              "    border-radius: 50%;\n",
              "    cursor: pointer;\n",
              "    display: none;\n",
              "    fill: var(--fill-color);\n",
              "    height: 32px;\n",
              "    padding: 0;\n",
              "    width: 32px;\n",
              "  }\n",
              "\n",
              "  .colab-df-quickchart:hover {\n",
              "    background-color: var(--hover-bg-color);\n",
              "    box-shadow: 0 1px 2px rgba(60, 64, 67, 0.3), 0 1px 3px 1px rgba(60, 64, 67, 0.15);\n",
              "    fill: var(--button-hover-fill-color);\n",
              "  }\n",
              "\n",
              "  .colab-df-quickchart-complete:disabled,\n",
              "  .colab-df-quickchart-complete:disabled:hover {\n",
              "    background-color: var(--disabled-bg-color);\n",
              "    fill: var(--disabled-fill-color);\n",
              "    box-shadow: none;\n",
              "  }\n",
              "\n",
              "  .colab-df-spinner {\n",
              "    border: 2px solid var(--fill-color);\n",
              "    border-color: transparent;\n",
              "    border-bottom-color: var(--fill-color);\n",
              "    animation:\n",
              "      spin 1s steps(1) infinite;\n",
              "  }\n",
              "\n",
              "  @keyframes spin {\n",
              "    0% {\n",
              "      border-color: transparent;\n",
              "      border-bottom-color: var(--fill-color);\n",
              "      border-left-color: var(--fill-color);\n",
              "    }\n",
              "    20% {\n",
              "      border-color: transparent;\n",
              "      border-left-color: var(--fill-color);\n",
              "      border-top-color: var(--fill-color);\n",
              "    }\n",
              "    30% {\n",
              "      border-color: transparent;\n",
              "      border-left-color: var(--fill-color);\n",
              "      border-top-color: var(--fill-color);\n",
              "      border-right-color: var(--fill-color);\n",
              "    }\n",
              "    40% {\n",
              "      border-color: transparent;\n",
              "      border-right-color: var(--fill-color);\n",
              "      border-top-color: var(--fill-color);\n",
              "    }\n",
              "    60% {\n",
              "      border-color: transparent;\n",
              "      border-right-color: var(--fill-color);\n",
              "    }\n",
              "    80% {\n",
              "      border-color: transparent;\n",
              "      border-right-color: var(--fill-color);\n",
              "      border-bottom-color: var(--fill-color);\n",
              "    }\n",
              "    90% {\n",
              "      border-color: transparent;\n",
              "      border-bottom-color: var(--fill-color);\n",
              "    }\n",
              "  }\n",
              "</style>\n",
              "\n",
              "  <script>\n",
              "    async function quickchart(key) {\n",
              "      const quickchartButtonEl =\n",
              "        document.querySelector('#' + key + ' button');\n",
              "      quickchartButtonEl.disabled = true;  // To prevent multiple clicks.\n",
              "      quickchartButtonEl.classList.add('colab-df-spinner');\n",
              "      try {\n",
              "        const charts = await google.colab.kernel.invokeFunction(\n",
              "            'suggestCharts', [key], {});\n",
              "      } catch (error) {\n",
              "        console.error('Error during call to suggestCharts:', error);\n",
              "      }\n",
              "      quickchartButtonEl.classList.remove('colab-df-spinner');\n",
              "      quickchartButtonEl.classList.add('colab-df-quickchart-complete');\n",
              "    }\n",
              "    (() => {\n",
              "      let quickchartButtonEl =\n",
              "        document.querySelector('#df-c828a477-2d16-4a2e-b55a-574b359cdc22 button');\n",
              "      quickchartButtonEl.style.display =\n",
              "        google.colab.kernel.accessAllowed ? 'block' : 'none';\n",
              "    })();\n",
              "  </script>\n",
              "</div>\n",
              "\n",
              "    </div>\n",
              "  </div>\n"
            ],
            "application/vnd.google.colaboratory.intrinsic+json": {
              "type": "dataframe",
              "variable_name": "cust_df",
              "summary": "{\n  \"name\": \"cust_df\",\n  \"rows\": 3920,\n  \"fields\": [\n    {\n      \"column\": \"CustomerID\",\n      \"properties\": {\n        \"dtype\": \"number\",\n        \"std\": 1576,\n        \"min\": 12346,\n        \"max\": 18287,\n        \"num_unique_values\": 3920,\n        \"samples\": [\n          13956,\n          14520,\n          17446\n        ],\n        \"semantic_type\": \"\",\n        \"description\": \"\"\n      }\n    },\n    {\n      \"column\": \"Recency\",\n      \"properties\": {\n        \"dtype\": \"number\",\n        \"std\": 99,\n        \"min\": 0,\n        \"max\": 373,\n        \"num_unique_values\": 302,\n        \"samples\": [\n          252,\n          213,\n          234\n        ],\n        \"semantic_type\": \"\",\n        \"description\": \"\"\n      }\n    },\n    {\n      \"column\": \"Frequency\",\n      \"properties\": {\n        \"dtype\": \"number\",\n        \"std\": 217,\n        \"min\": 1,\n        \"max\": 7847,\n        \"num_unique_values\": 442,\n        \"samples\": [\n          421,\n          139,\n          305\n        ],\n        \"semantic_type\": \"\",\n        \"description\": \"\"\n      }\n    },\n    {\n      \"column\": \"Monetary\",\n      \"properties\": {\n        \"dtype\": \"number\",\n        \"std\": 7482.817476870338,\n        \"min\": 3.75,\n        \"max\": 259657.3,\n        \"num_unique_values\": 3846,\n        \"samples\": [\n          1173.12,\n          166.42,\n          244.8\n        ],\n        \"semantic_type\": \"\",\n        \"description\": \"\"\n      }\n    }\n  ]\n}"
            }
          },
          "metadata": {},
          "execution_count": 33
        }
      ]
    },
    {
      "cell_type": "markdown",
      "source": [
        "#**7. 추가 개념**\n",
        "발표자료를 기반으로 다음 문제를 푸시면 됩니다."
      ],
      "metadata": {
        "id": "K53_sjULoLbC"
      },
      "id": "K53_sjULoLbC"
    },
    {
      "cell_type": "markdown",
      "source": [
        "##**7-1. '이것'은 각각의 데이터 포인트를 하나의 클러스터로 지정하고, 지정된 개수의 클러스터가 남을 때까지 가장 비슷한 두 클러스터로 합쳐 나가는 알고리즘입니다. '이것'은 무엇인가요?**"
      ],
      "metadata": {
        "id": "UNm4XIf_oM6i"
      },
      "id": "UNm4XIf_oM6i"
    },
    {
      "cell_type": "markdown",
      "source": [
        "계층적 군집화"
      ],
      "metadata": {
        "id": "KjxOQnajoQcr"
      },
      "id": "KjxOQnajoQcr"
    },
    {
      "cell_type": "markdown",
      "source": [
        "##**7-2. '7-1번에서의 알고리즘'의 3가지 이상 linkage옵션을 각각 간단히 서술하세요.**"
      ],
      "metadata": {
        "id": "9e3aZlxaoT-N"
      },
      "id": "9e3aZlxaoT-N"
    },
    {
      "cell_type": "markdown",
      "source": [
        "\n",
        "1. 최단 연결법: 두 클러스터 간의 거리 계산 시, 두 클러스터에서 가장 가까운 두 포인트 사이의 거리를 사용\n",
        "2. 최대 연결법: 두 클러스터 간의 거리 계산 시, 두 클러스터에서 가장 멀리 떨어진 두 포인트 사이의 거리를 사용\n",
        "3. 평균 연결법: 두 클러스터 간의 거리 계산 시, 두 클러스터 내 모든 포인트 간의 평균 거리를 사용\n",
        "\n"
      ],
      "metadata": {
        "id": "4DcKGOJ1oXTx"
      },
      "id": "4DcKGOJ1oXTx"
    }
  ],
  "metadata": {
    "kernelspec": {
      "display_name": "Python 3 (ipykernel)",
      "language": "python",
      "name": "python3"
    },
    "language_info": {
      "codemirror_mode": {
        "name": "ipython",
        "version": 3
      },
      "file_extension": ".py",
      "mimetype": "text/x-python",
      "name": "python",
      "nbconvert_exporter": "python",
      "pygments_lexer": "ipython3",
      "version": "3.12.2"
    },
    "colab": {
      "provenance": []
    }
  },
  "nbformat": 4,
  "nbformat_minor": 5
}